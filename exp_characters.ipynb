{
 "cells": [
  {
   "cell_type": "code",
   "execution_count": 6,
   "id": "1159dfb6",
   "metadata": {},
   "outputs": [],
   "source": [
    "import pandas as pd"
   ]
  },
  {
   "cell_type": "code",
   "execution_count": 7,
   "id": "de6f37fc",
   "metadata": {},
   "outputs": [],
   "source": [
    "df_characters = pd.read_csv('files/characters.grivg.csv')"
   ]
  },
  {
   "cell_type": "markdown",
   "id": "47de6fc2",
   "metadata": {},
   "source": [
    "### Exploración DF"
   ]
  },
  {
   "cell_type": "code",
   "execution_count": 8,
   "id": "41f1bf06",
   "metadata": {},
   "outputs": [
    {
     "name": "stdout",
     "output_type": "stream",
     "text": [
      "<class 'pandas.core.frame.DataFrame'>\n",
      "RangeIndex: 637 entries, 0 to 636\n",
      "Data columns (total 12 columns):\n",
      " #   Column             Non-Null Count  Dtype \n",
      "---  ------             --------------  ----- \n",
      " 0   Name               637 non-null    object\n",
      " 1   Gender             637 non-null    object\n",
      " 2   Game               637 non-null    object\n",
      " 3   Age                637 non-null    object\n",
      " 4   Age_range          637 non-null    object\n",
      " 5   Playable           637 non-null    int64 \n",
      " 6   Sexualization      637 non-null    int64 \n",
      " 7   Id                 637 non-null    object\n",
      " 8   Species            637 non-null    object\n",
      " 9   Side               637 non-null    object\n",
      " 10  Relevance          637 non-null    object\n",
      " 11  Romantic_Interest  637 non-null    object\n",
      "dtypes: int64(2), object(10)\n",
      "memory usage: 59.8+ KB\n"
     ]
    }
   ],
   "source": [
    "df_characters.info()"
   ]
  },
  {
   "cell_type": "code",
   "execution_count": 9,
   "metadata": {},
   "outputs": [
    {
     "data": {
      "text/html": [
       "<div>\n",
       "<style scoped>\n",
       "    .dataframe tbody tr th:only-of-type {\n",
       "        vertical-align: middle;\n",
       "    }\n",
       "\n",
       "    .dataframe tbody tr th {\n",
       "        vertical-align: top;\n",
       "    }\n",
       "\n",
       "    .dataframe thead th {\n",
       "        text-align: right;\n",
       "    }\n",
       "</style>\n",
       "<table border=\"1\" class=\"dataframe\">\n",
       "  <thead>\n",
       "    <tr style=\"text-align: right;\">\n",
       "      <th></th>\n",
       "      <th>Playable</th>\n",
       "      <th>Sexualization</th>\n",
       "    </tr>\n",
       "  </thead>\n",
       "  <tbody>\n",
       "    <tr>\n",
       "      <th>count</th>\n",
       "      <td>637.000000</td>\n",
       "      <td>637.000000</td>\n",
       "    </tr>\n",
       "    <tr>\n",
       "      <th>mean</th>\n",
       "      <td>0.193093</td>\n",
       "      <td>0.086342</td>\n",
       "    </tr>\n",
       "    <tr>\n",
       "      <th>std</th>\n",
       "      <td>0.395035</td>\n",
       "      <td>0.389022</td>\n",
       "    </tr>\n",
       "    <tr>\n",
       "      <th>min</th>\n",
       "      <td>0.000000</td>\n",
       "      <td>0.000000</td>\n",
       "    </tr>\n",
       "    <tr>\n",
       "      <th>25%</th>\n",
       "      <td>0.000000</td>\n",
       "      <td>0.000000</td>\n",
       "    </tr>\n",
       "    <tr>\n",
       "      <th>50%</th>\n",
       "      <td>0.000000</td>\n",
       "      <td>0.000000</td>\n",
       "    </tr>\n",
       "    <tr>\n",
       "      <th>75%</th>\n",
       "      <td>0.000000</td>\n",
       "      <td>0.000000</td>\n",
       "    </tr>\n",
       "    <tr>\n",
       "      <th>max</th>\n",
       "      <td>1.000000</td>\n",
       "      <td>3.000000</td>\n",
       "    </tr>\n",
       "  </tbody>\n",
       "</table>\n",
       "</div>"
      ],
      "text/plain": [
       "         Playable  Sexualization\n",
       "count  637.000000     637.000000\n",
       "mean     0.193093       0.086342\n",
       "std      0.395035       0.389022\n",
       "min      0.000000       0.000000\n",
       "25%      0.000000       0.000000\n",
       "50%      0.000000       0.000000\n",
       "75%      0.000000       0.000000\n",
       "max      1.000000       3.000000"
      ]
     },
     "execution_count": 9,
     "metadata": {},
     "output_type": "execute_result"
    }
   ],
   "source": [
    "df_characters.describe()"
   ]
  },
  {
   "cell_type": "code",
   "execution_count": 10,
   "id": "4f50bf2b",
   "metadata": {},
   "outputs": [
    {
     "data": {
      "text/plain": [
       "Name                 0\n",
       "Gender               0\n",
       "Game                 0\n",
       "Age                  0\n",
       "Age_range            0\n",
       "Playable             0\n",
       "Sexualization        0\n",
       "Id                   0\n",
       "Species              0\n",
       "Side                 0\n",
       "Relevance            0\n",
       "Romantic_Interest    0\n",
       "dtype: int64"
      ]
     },
     "execution_count": 10,
     "metadata": {},
     "output_type": "execute_result"
    }
   ],
   "source": [
    "df_characters.isnull().sum()"
   ]
  },
  {
   "cell_type": "code",
   "execution_count": 11,
   "id": "a1d10523",
   "metadata": {},
   "outputs": [
    {
     "data": {
      "text/plain": [
       "Index(['name', 'gender', 'game', 'age', 'age_range', 'playable',\n",
       "       'sexualization', 'id', 'species', 'side', 'relevance',\n",
       "       'romantic_interest'],\n",
       "      dtype='object')"
      ]
     },
     "execution_count": 11,
     "metadata": {},
     "output_type": "execute_result"
    }
   ],
   "source": [
    "for col  in df_characters:\n",
    "    df_characters.columns = df_characters.columns.str.lower()\n",
    "\n",
    "df_characters.columns"
   ]
  },
  {
   "cell_type": "code",
   "execution_count": 12,
   "id": "28c59b65",
   "metadata": {},
   "outputs": [
    {
     "data": {
      "text/plain": [
       "0      False\n",
       "1      False\n",
       "2      False\n",
       "3      False\n",
       "4      False\n",
       "       ...  \n",
       "632    False\n",
       "633    False\n",
       "634    False\n",
       "635    False\n",
       "636    False\n",
       "Name: name, Length: 637, dtype: bool"
      ]
     },
     "execution_count": 12,
     "metadata": {},
     "output_type": "execute_result"
    }
   ],
   "source": [
    "df_characters['name'].duplicated()\n"
   ]
  },
  {
   "cell_type": "markdown",
   "id": "33fbe761",
   "metadata": {},
   "source": [
    "### Explorando columnas"
   ]
  },
  {
   "cell_type": "code",
   "execution_count": 13,
   "id": "591b53e4",
   "metadata": {},
   "outputs": [
    {
     "data": {
      "text/plain": [
       "array(['Female', 'Custom', 'Non-binary', 'Male'], dtype=object)"
      ]
     },
     "execution_count": 13,
     "metadata": {},
     "output_type": "execute_result"
    }
   ],
   "source": [
    "df_characters['gender'].unique()"
   ]
  },
  {
   "cell_type": "code",
   "execution_count": 14,
   "id": "8bd4bca3",
   "metadata": {},
   "outputs": [
    {
     "data": {
      "text/plain": [
       "array(['CODMW', 'PSS', 'SMO', 'BOTW', 'PSM', 'TW3', 'TWD', 'UT', 'BB',\n",
       "       'SK', 'TLOU', 'BSI', 'JRN', 'GTAV', 'RDR2', 'BL2', 'GOW', 'UC4',\n",
       "       'CODBO2', 'INS', 'PP', 'HLM', 'FC3', 'PSN5', 'TN', 'ER', 'TSPUD',\n",
       "       'NW', 'CH', 'DL', 'NRA', 'IWATE', 'IMM', 'DEL', 'HA', 'CACW',\n",
       "       'ITT', 'TLOU2', 'HLA', 'OAWW', 'DQXI', 'YK0', 'TINGWD', 'DOS2',\n",
       "       'SSDT', 'OABF', 'DMC5', 'FE3H', 'WROEF', 'CLS', 'DC', 'HLKN',\n",
       "       'NITW', 'BY2', 'BRA', 'MGSV', 'TSWP', 'OWB', 'DS2', 'TBOIR', 'COL',\n",
       "       'FLR', 'MSMMM', 'KBOS'], dtype=object)"
      ]
     },
     "execution_count": 14,
     "metadata": {},
     "output_type": "execute_result"
    }
   ],
   "source": [
    "df_characters['game'].unique() ## Voy a llamarlo 'game_id'porque en el CSV de games se llama así la columna."
   ]
  },
  {
   "cell_type": "code",
   "execution_count": 15,
   "id": "2d1ca814",
   "metadata": {},
   "outputs": [],
   "source": [
    "df_characters = df_characters.rename(columns={'game': 'game_id'})"
   ]
  },
  {
   "cell_type": "code",
   "execution_count": 18,
   "id": "70bb982a",
   "metadata": {},
   "outputs": [
    {
     "data": {
      "text/plain": [
       "array(['27', 'Teenager', 'Elderly', '26', 'Adult', '17', '11', '21', '8',\n",
       "       '14', '19', 'Unknown', '43', '22', '25', 'Young adult', '54', '47',\n",
       "       '120', '12', '41', 'Middle-aged', '48', '46', '20', '51', '38',\n",
       "       '36', '33', '55', '4', '42', '37', '53', '39', '61', '50', '49',\n",
       "       '10', '18', '65', 'Child', '52', '45', '13', '28', '30', '66',\n",
       "       '29', '70', '24', '23', '40', '16', '15', '44', '57', '93',\n",
       "       'Infant'], dtype=object)"
      ]
     },
     "execution_count": 18,
     "metadata": {},
     "output_type": "execute_result"
    }
   ],
   "source": [
    "df_characters['age'].unique()"
   ]
  },
  {
   "cell_type": "code",
   "execution_count": 17,
   "id": "27b79508",
   "metadata": {},
   "outputs": [
    {
     "data": {
      "text/plain": [
       "array(['Adult', 'Teenager', 'Elderly', 'Child', 'Young adult', 'Unknown',\n",
       "       'Middle-aged', 'Infant'], dtype=object)"
      ]
     },
     "execution_count": 17,
     "metadata": {},
     "output_type": "execute_result"
    }
   ],
   "source": [
    "df_characters['age_range'].unique()"
   ]
  },
  {
   "cell_type": "code",
   "execution_count": 28,
   "id": "b4fbd0c8",
   "metadata": {},
   "outputs": [
    {
     "data": {
      "text/plain": [
       "136"
      ]
     },
     "execution_count": 28,
     "metadata": {},
     "output_type": "execute_result"
    }
   ],
   "source": [
    "df_characters['age_range'].value_counts()['Unknown']"
   ]
  },
  {
   "cell_type": "code",
   "execution_count": 19,
   "id": "e41e3c26",
   "metadata": {},
   "outputs": [
    {
     "data": {
      "text/plain": [
       "array([1, 0], dtype=int64)"
      ]
     },
     "execution_count": 19,
     "metadata": {},
     "output_type": "execute_result"
    }
   ],
   "source": [
    "df_characters['playable'].unique()"
   ]
  },
  {
   "cell_type": "code",
   "execution_count": 20,
   "id": "b48732a4",
   "metadata": {},
   "outputs": [
    {
     "data": {
      "text/plain": [
       "array([0, 2, 1, 3], dtype=int64)"
      ]
     },
     "execution_count": 20,
     "metadata": {},
     "output_type": "execute_result"
    }
   ],
   "source": [
    "df_characters['sexualization'].unique()"
   ]
  },
  {
   "cell_type": "code",
   "execution_count": 21,
   "id": "64d72ad6",
   "metadata": {},
   "outputs": [
    {
     "data": {
      "text/plain": [
       "array(['CODMW_Farah', 'PSS_Protagonist', 'PSS_Magnolia', 'PSS_Sonia',\n",
       "       'PSS_Marnie', 'PSS_Oleana', 'SMO_Peach', 'BOTW_Zelda',\n",
       "       'PSM_Protagonist', 'TW3_Ciri', 'TWD_Clementine', 'UT_Frisk',\n",
       "       'BB_Hunter', 'SK_Shield', 'TLOU_Ellie', 'BSI_Elizabeth',\n",
       "       'JRN_Traveler', 'GTAV_Amanda', 'GTAV_Tracy', 'RDR2_Abigail',\n",
       "       'RDR2_Karen', 'RDR2_Mary-Beth', 'RDR2_Molly', 'RDR2_Sadie',\n",
       "       'RDR2_Susan', 'RDR2_Tilly', 'SMO_Tiara', 'BOTW_Mipha',\n",
       "       'BOTW_Urbosa', 'BOTW_Impa', 'BOTW_Riju', 'PSM_Lillie',\n",
       "       'PSM_Lusamine', 'TW3_Yennefer', 'TW3_Triss', 'TW3_Keira',\n",
       "       'TW3_Roach', 'TW3_Crones', 'BL2_Maya', 'BL2_Angel', 'BL2_Lilith',\n",
       "       'BL2_Tannis', 'TWD_Katja', 'TWD_Carley', 'TWD_Lilly', 'TWD_Brenda',\n",
       "       'TWD_Jolene', 'TWD_Molly', 'TWD_Christa', 'TWD_Brie', 'GOW_Freya',\n",
       "       'UC4_Elena', 'UC4_Nadine', 'UT_Toriel', 'UT_Undyne',\n",
       "       'UT_Dr.Alphys', 'UT_Chara', 'GTAV_Michael', 'GTAV_Trevor',\n",
       "       'GTAV_Franklin', 'GTAV_Jimmy', 'GTAV_Lamar', 'GTAV_Lester',\n",
       "       'GTAV_Devin', 'GTAV_Steve', 'GTAV_Chop', 'PSS_Leon', 'PSS_Hop',\n",
       "       'PSS_Rose', 'PSS_Bede', 'CODMW_Alex', 'CODMW_Hadir', 'CODMW_Kyle',\n",
       "       'CODMW_Price', 'CODMW_Barkov', 'RDR2_Arthur', 'RDR2_John',\n",
       "       'RDR2_Bill', 'RDR2_Charles', 'RDR2_Hosea', 'RDR2_Jack',\n",
       "       'RDR2_Javier', 'RDR2_Josiah', 'RDR2_Kieran', 'RDR2_Lenny',\n",
       "       'RDR2_Leopold', 'RDR2_Micah', 'RDR2_Mr.Pearson', 'RDR2_Swanson',\n",
       "       'RDR2_Sean', 'RDR2_Uncle', 'RDR2_Cornwall', 'SMO_Mario',\n",
       "       'SMO_Cappy', 'SMO_Bowser', 'BOTW_Link', 'BOTW_Daruk',\n",
       "       'BOTW_Revali', 'BOTW_Rhoam', 'BOTW_Yunobo', 'BOTW_Sidon',\n",
       "       'BOTW_Teba', 'BOTW_Bludo', 'BOTW_Dorephan', 'BOTW_Kaneli',\n",
       "       'BOTW_Kohga', 'BOTW_DekuTree', 'BOTW_Ganon', 'PSM_Hau',\n",
       "       'PSM_Professor', 'PSM_Guzma', 'PSM_Gladion', 'TW3_Geralt',\n",
       "       'TW3_Emhyr', 'TW3_Dandelion', \"TW3_Avallac'h\", 'TW3_Sigismund',\n",
       "       'TW3_Baron', 'TW3_Eredin', 'TW3_Vesemir', 'TW3_Zoltan',\n",
       "       'TW3_Regis', 'TW3_Lambert', 'TW3_Whoreson', 'TW3_WildHunt',\n",
       "       'CODBO2_Alex', 'CODBO2_Raul', 'CODBO2_Frank', 'CODBO2_Jason',\n",
       "       'CODBO2_Thomas', 'CODBO2_David', 'CODBO2_Jonas', 'CODBO2_Lev',\n",
       "       'CODBO2_Mike', 'CODBO2_Viktor', 'CODBO2_Tian', 'CODBO2_Farid',\n",
       "       'BL2_Axton', 'BL2_Salvador', 'BL2_Zer0', 'BL2_Roland', 'BL2_Brick',\n",
       "       'BL2_Mordecai', 'BL2_Handsome', 'BL2_Wilhelm', 'TWD_Lee',\n",
       "       'TWD_Hershel', 'TWD_Kenny', 'TWD_Duck', 'TWD_Glenn', 'TWD_Larry',\n",
       "       'TWD_Mark', 'TWD_Ben', 'TWD_Andrew', 'TWD_Danny', 'TWD_Chuck',\n",
       "       'TWD_Vernon', 'TWD_Omid', 'TWD_Campman', 'GOW_Kratos',\n",
       "       'GOW_Atreus', 'GOW_Baldur', 'GOW_Modi', 'GOW_Magni', 'GOW_Mimir',\n",
       "       'UC4_Nate', 'UC4_Sully', 'UC4_Sam', 'UC4_Rafe', 'INS_Protagonist',\n",
       "       'INS_CEO', 'UT_Flowey', 'UT_Sans', 'UT_Papyrus', 'UT_Mettaton',\n",
       "       'UT_Asgore', 'UT_Asriel', 'BB_Doll', 'BB_Gahrman', 'BB_Gascoigne',\n",
       "       'BB_Micolash', 'SK_Shovel', 'SK_Black', 'SK_Enchantress',\n",
       "       'SK_King', 'SK_Specter', 'SK_Plague', 'SK_Treasure', 'SK_Mole',\n",
       "       'SK_Tinked', 'SK_Polar', 'SK_Propeller', 'PP_Inspector',\n",
       "       'PP_Jorji', 'PP_Wife', 'PP_Son', 'PP_Mother-in-law', 'PP_Uncle',\n",
       "       'TLOU_Joel', 'TLOU_Tess', 'TLOU_Marlene', 'TLOU_Tommy',\n",
       "       'TLOU_Bill', 'TLOU_Henry', 'TLOU_Sam', 'TLOU_David', 'BSI_Booker',\n",
       "       'BSI_Songbird', 'BSI_Comstock', 'BSI_Robert', 'BSI_Rosalind',\n",
       "       'BSI_Daisy', 'HLM_Jacket', 'HLM_Biker', 'HLM_Girlfriend',\n",
       "       'HLM_Richard', 'HLM_Rasmus', 'HLM_DonJuan', 'HLM_Beard',\n",
       "       'HLM_Dennis', 'HLM_Jonatan', 'HLM_Richter', 'JRN_Ancestor',\n",
       "       'JRN_Companions', 'JRN_War', 'FC3_Jason', 'FC3_Vaas', 'FC3_Grant',\n",
       "       'FC3_Dennis', 'FC3_Daisy', 'FC3_Dr.Earnhardt', 'FC3_Citra',\n",
       "       'FC3_Willis', 'FC3_Liza', 'FC3_Keith', 'FC3_Oliver', 'FC3_Hoyt',\n",
       "       'FC3_Sam', 'FC3_Riley', 'PSN5_Joker', 'PSN5_Igor', 'PSN5_Ryuji',\n",
       "       'PSN5_Kamoshida', 'PSN5_Morgana', 'PSN5_Goro', 'PSN5_Shido',\n",
       "       'PSN5_Lavenza', 'PSN5_Sojiro', 'PSN5_Ann', 'PSN5_Shiho',\n",
       "       'PSN5_Yusuke', 'PSN5_Makoto', 'PSN5_Sae', 'PSN5_Futaba',\n",
       "       'PSN5_Haru', 'PSN5_Madarame', 'PSN5_Kaneshiro', 'TN_Fox',\n",
       "       'TN_Heir', 'ER_Tarnished', 'ER_Melina', 'ER_Finger', 'ER_Queen',\n",
       "       'ER_Two', 'ER_Morgott', 'ER_Maliketh', 'ER_Radagon', 'ER_Elden',\n",
       "       'ER_Ranni', 'ER_Miriel', 'ER_Fia', 'ER_Radhan', 'ER_Rykard',\n",
       "       'ER_Blaidd', 'ER_Malenia', 'ER_Godwyn', 'ER_Mohg', 'ER_Miquella',\n",
       "       'TSPUD_Stanley', 'TSPUD_Narrator', 'NW_White', 'NW_Mikey',\n",
       "       'NW_Green', 'NW_Believers', 'NW_Red', 'NW_Violet', 'NW_Yellow',\n",
       "       'NW_Raz', 'NW_Gabby', 'CH_Cuphead', 'CH_Mugman', 'CH_Elder',\n",
       "       'CH_Devil', 'CH_King', 'CH_Porkrind', 'CH_Chalice', 'DL_Colt',\n",
       "       'DL_Juliana', 'DL_Fia', 'DL_Egor', 'DL_Frank', 'DL_Wenjie',\n",
       "       'DL_Charlie', 'DL_Harriet', 'DL_Aleksis', 'NRA_2B', 'NRA_9S',\n",
       "       'NRA_A2', 'NRA_Pods', 'NRA_Adam', 'NRA_Eve', 'NRA_Red',\n",
       "       'NRA_Commander', 'NRA_Anemone', 'NRA_Pascal', 'NRA_Devola',\n",
       "       'NRA_Popola', 'NRA_Emil', 'IWATE_Cal', 'IWATE_Anemone',\n",
       "       'IWATE_Dys', 'IWATE_Marz', 'IWATE_Rex', 'IWATE_Tangent',\n",
       "       'IWATE_Vace', 'IWATE_Nomi', 'IWATE_Sym', 'IWATE_Tammy',\n",
       "       'IWATE_Protagonist', 'IWATE_Flulu', 'IWATE_Geranium',\n",
       "       'IWATE_Eudicot', 'IWATE_Baculum', 'IWATE_Instance', 'IWATE_Hal',\n",
       "       'IWATE_Tonin', 'IWATE_Utopia', 'IWATE_Rhett', 'IWATE_Congruence',\n",
       "       'IWATE_Seeq', 'IWATE_Kom', 'IWATE_Nougat', 'IWATE_Tirah',\n",
       "       'IWATE_Al', 'IWATE_Bernie', 'IMM_Marissa', 'IMM_One', 'IMM_Other',\n",
       "       'IMM_John', 'IMM_Arthur', 'IMM_Carl', 'IMM_Amy', 'DEL_Harrier',\n",
       "       'DEL_Kim', 'DEL_Alice', 'HA_Zagreus', 'HA_Hades', 'HA_Persephone',\n",
       "       'HA_Nyx', 'HA_Dionysus', 'HA_Hermes', 'HA_Aphrodite',\n",
       "       'HA_Thanatos', 'HA_Megaera', 'HA_Achilles', 'HA_Artemis',\n",
       "       'HA_Poseidon', 'HA_Zeus', 'HA_Demeter', 'HA_Athena', 'HA_Ares',\n",
       "       'CACW_Pizza', 'CACW_Chicory', 'CACW_Blackberry', 'ITT_Cody',\n",
       "       'ITT_May', 'ITT_Rose', 'ITT_Dr.Hakim', 'TLOU2_Ellie', 'TLOU2_Abby',\n",
       "       'TLOU2_Joel', 'TLOU2_Tommy', 'TLOU2_Dina', 'TLOU2_Jesse',\n",
       "       'TLOU2_Lev', 'TLOU2_Yara', 'TLOU2_Manny', 'TLOU2_Owen',\n",
       "       'TLOU2_Nora', 'HLA_Alyx', 'HLA_Eli', 'HLA_Russell', 'HLA_Gary',\n",
       "       'HLA_G-Man', 'OAWW_Ku', 'OAWW_Naru', 'OAWW_Ori', 'OAWW_Gumo',\n",
       "       'OAWW_Kwolok', 'OAWW_Sein', 'OAWW_Baur', 'OAWW_Shriek',\n",
       "       'DQXI_Hero', 'DQXI_Rab', 'DQXI_Serena', 'DQXI_Jade', 'DQXI_Erik',\n",
       "       'DQXI_Sylvando', 'DQXI_Veronica', 'DQXI_King', 'DQXI_Jasper',\n",
       "       'DQXI_Hendrik', 'DQXI_Mordegon', 'DQXI_Calasmos', 'DQXI_Serenica',\n",
       "       'YK0_Kiryu', 'YK0_Nishikiyama', 'YK0_Daisaku', 'YK0_Keiji',\n",
       "       'YK0_Hiroki', 'YK0_Soehi', 'YK0_Tachibana', 'YK0_Goro',\n",
       "       'YK0_Shimano', 'YK0_Sagawa', 'YK0_Makoto', 'YK0_Wen', 'YK0_Homare',\n",
       "       'YK0_Oda', 'YK0_Reina', 'YK0_Sera', 'YK0_Lao', 'TINGWD_User',\n",
       "       'TINGWD_Game', 'TINGWD_GiGi', 'TINGWD_Glitch', 'TINGWD_Creator',\n",
       "       'DOS2_Godwoken', 'DOS2_Alexandar', 'DOS2_Dallis', 'DOS2_Lucian',\n",
       "       'DOS2_Braccus', 'DOS2_Beast', 'DOS2_Sebille', 'DOS2_Ifan',\n",
       "       'DOS2_Red', 'DOS2_Fane', 'DOS2_Lohse', 'SSDT_Sekiro', 'SSDT_Kuro',\n",
       "       'SSDT_Commander', 'SSDT_Isshin', 'SSDT_Genichiro', 'SSDT_Emma',\n",
       "       'SSDT_Owl', 'SSDT_Sculptor', 'OABF_Ori', 'OABF_Kuro', 'OABF_Naru',\n",
       "       'OABF_Gumo', 'OABF_Sein', 'DMC5_Nero', 'DMC5_Dante', 'DMC5_Nico',\n",
       "       'DMC5_V', 'DMC5_Urizen', 'DMC5_Lady', 'DMC5_Trish', 'DMC5_Vergil',\n",
       "       'FE3H_Byleth', 'FE3H_Sothis', 'FE3H_Edelgard', 'FE3H_Dimitri',\n",
       "       'FE3H_Claude', 'FE3H_Jeralt', 'FE3H_Rhea', 'FE3H_Flame',\n",
       "       'FE3H_Nemesis', 'FE3H_Aelfric', 'FE3H_Thales', 'WROEF_Edith',\n",
       "       'WROEF_Edie', 'WROEF_Dawn', 'WROEF_Sven', 'WROEF_Molly',\n",
       "       'WROEF_Barbara', 'WROEF_Sanjay', 'WROEF_Lewis', 'WROEF_Milton',\n",
       "       'WROEF_Christopher', 'WROEF_Sam', 'WROEF_Gus', 'WROEF_Gregory',\n",
       "       'WROEF_Kay', 'WROEF_Walter', 'WROEF_Calvin', 'WROEF_Odin',\n",
       "       'CLS_Madeline', 'CLS_Celia', 'CLS_Theo', 'CLS_Badeline',\n",
       "       'CLS_Mr.Oshiro', 'CLS_Bird', 'DC_Prisoner', 'DC_Collector',\n",
       "       'DC_King', 'DC_Tutorial', 'DC_Gollum', 'HLKN_Knight', 'HLKN_Pale',\n",
       "       'HLKN_Hornet', 'HLKN_Radiance', 'HLKN_Hollow', 'HLKN_Mr.Mushroom',\n",
       "       'HLKN_Lurien', 'HLKN_Monomon', 'HLKN_Herrah', 'HLKN_Quirrel',\n",
       "       'HLKN_Cloth', 'HLKN_Cornifer', 'HLKN_Tiso', 'HLKN_Zote',\n",
       "       'HLKN_White', 'HLKN_Elderburg', 'NITW_Mae', 'NITW_Bea',\n",
       "       'NITW_Gregg', 'NITW_Angus', 'NITW_Casey', 'NITW_Black',\n",
       "       'NITW_Germ', 'NITW_Aunt', 'NITW_Cult', 'BY2_Bayonetta', 'BY2_Enzo',\n",
       "       'BY2_Jeanne', 'BY2_Inferno', 'BY2_Lumen', 'BY2_Balder', 'BY2_Luka',\n",
       "       'BY2_Loki', 'BY2_Rodin', 'BY2_Rosa', 'BY2_Loptr', 'BRA_Vella',\n",
       "       'BRA_Levina', 'BRA_Jessie', \"BRA_Ch't\", 'BRA_Maggie', 'BRA_Gus',\n",
       "       'BRA_Brommel', 'BRA_Morelia', 'BRA_Husker', 'BRA_Alex', 'BRA_Shay',\n",
       "       'BRA_Hope', 'BRA_Marek', 'BRA_Grabbin', 'BRA_Ray', 'BRA_Rocky',\n",
       "       'MGSV_Venom', 'MGSV_Quiet', 'MGSV_Revolver', 'MGSV_Kazuhira',\n",
       "       'MGSV_Dr.Huey', 'MGSV_Code', 'MGSV_Eli', 'MGSV_Zero', 'MGSV_Skull',\n",
       "       'MGSV_Sahelanthropus', 'TSWP_Swapper', 'TSWP_Head', 'TSWP_Dennet',\n",
       "       'TSWP_Chalmers', 'TSWP_Marcus', 'TSWP_Captain', 'OWB_Otus',\n",
       "       'OWB_Asio', 'OWB_Geddy', 'OWB_Alphonse', 'OWB_Twig', 'OWB_Dirk',\n",
       "       'OWB_Molstrom', 'OWB_Solus', 'DS2_Bearer', 'DS2_Emerald',\n",
       "       'DS2_Nashandra', 'DS2_Vendrick', 'DS2_Aldia', 'TBOIR_Isaac',\n",
       "       'TBOIR_Mother', 'TBOIR_Magdalene', 'TBOIR_Cain', 'TBOIR_Judas',\n",
       "       'TBOIR_???', 'TBOIR_Eve', 'TBOIR_Samson', 'TBOIR_Azazel',\n",
       "       'TBOIR_Lazarus', 'TBOIR_The', 'COL_Aurora', 'COL_Duke',\n",
       "       'COL_Igniculus', 'COL_Lady', 'COL_Rubella', 'COL_Finn',\n",
       "       'COL_Norah', 'COL_Robert', 'COL_Tristis', 'COL_Cordelia',\n",
       "       'COL_Umbra', 'COL_Oengus', 'COL_Genovefa', 'FLR_FLorence',\n",
       "       'FLR_Krish', 'MSMMM_Miles', 'MSMMM_Simon', 'MSMMM_Rio',\n",
       "       'MSMMM_Rhino', 'MSMMM_Parker', 'MSMMM_Ganke', 'MSMMM_Aaron',\n",
       "       'MSMMM_Danika', 'MSMMM_Gloria', 'MSMMM_Hailey', 'MSMMM_Rick',\n",
       "       'MSMMM_Phin', 'KBOS_Kena', 'KBOS_Rot', 'KBOS_Toshi', 'KBOS_Zajuro',\n",
       "       'KBOS_Saiya', 'KBOS_Beni', 'KBOS_Taro', 'KBOS_Rusu', 'KBOS_Adira',\n",
       "       'KBOS_Hana'], dtype=object)"
      ]
     },
     "execution_count": 21,
     "metadata": {},
     "output_type": "execute_result"
    }
   ],
   "source": [
    "df_characters['id'].unique()"
   ]
  },
  {
   "cell_type": "code",
   "execution_count": 22,
   "id": "326d2c56",
   "metadata": {},
   "outputs": [
    {
     "data": {
      "text/plain": [
       "array(['Human', 'Humanoid', 'Animated Object', 'Animal', 'Animated Plant',\n",
       "       'Creature', 'Robot', 'Humanoid-Animal', 'Unknown', 'Android-Robot'],\n",
       "      dtype=object)"
      ]
     },
     "execution_count": 22,
     "metadata": {},
     "output_type": "execute_result"
    }
   ],
   "source": [
    "df_characters['species'].unique()"
   ]
  },
  {
   "cell_type": "code",
   "execution_count": 23,
   "id": "38f3ae21",
   "metadata": {},
   "outputs": [
    {
     "data": {
      "text/plain": [
       "array(['P', 'B', 'A'], dtype=object)"
      ]
     },
     "execution_count": 23,
     "metadata": {},
     "output_type": "execute_result"
    }
   ],
   "source": [
    "df_characters['side'].unique()"
   ]
  },
  {
   "cell_type": "code",
   "execution_count": 24,
   "id": "bf0f0125",
   "metadata": {},
   "outputs": [
    {
     "data": {
      "text/plain": [
       "array(['PA', 'SC', 'MC', 'DA', 'MA', 'SK'], dtype=object)"
      ]
     },
     "execution_count": 24,
     "metadata": {},
     "output_type": "execute_result"
    }
   ],
   "source": [
    "df_characters['relevance'].unique()"
   ]
  },
  {
   "cell_type": "code",
   "execution_count": 25,
   "id": "4f604c34",
   "metadata": {},
   "outputs": [
    {
     "data": {
      "text/plain": [
       "array(['No', 'Yes', 'Opt'], dtype=object)"
      ]
     },
     "execution_count": 25,
     "metadata": {},
     "output_type": "execute_result"
    }
   ],
   "source": [
    "df_characters['romantic_interest'].unique()"
   ]
  },
  {
   "cell_type": "markdown",
   "id": "6a0430f7",
   "metadata": {},
   "source": [
    "### Conclusión columnas"
   ]
  },
  {
   "cell_type": "markdown",
   "id": "a35633f1",
   "metadata": {},
   "source": [
    "**COLUMNAS Y CONCLUSIONES**\n",
    "\n",
    "❓'name'--------------- No sé \n",
    "\n",
    "✅'gender' ----------- Obvio\n",
    "\n",
    "✅'game_id' ---------- Identificador del juego. Para unir tablas **UNION CON GAMES**\n",
    "\n",
    "❗'age' --------------- **BORRAR**\n",
    "\n",
    "✅'age_range'--------- Son etiquetas de rangos de edad. Hay UNKNOWN *\n",
    "\n",
    "✅'playable'---------- Si el personaje es jugable o no.\n",
    "\n",
    "✅'sexualization'----- Rango del 0 al 4.\n",
    "\n",
    "❓'id'---------------- Código de identificación del personaje formado por (game_id)_name **UNION CON SEXUALIZATION**\n",
    "\n",
    "✅'species' --------- Tipo de bicho. No sé. Categórica.\n",
    "\n",
    "✅'side' ------------ P = protagonista, A = antagonista, B = personaje que puede ser P o A.\n",
    "\n",
    "✅ 'relevance'------- Revisar docu. 'PA', 'SC', 'MC', 'DA', 'MA', 'SK'*\n",
    "\n",
    "✅'romantic_interest - 'No', 'Yes', 'Opt'"
   ]
  },
  {
   "cell_type": "markdown",
   "id": "b2bfc8d2",
   "metadata": {},
   "source": [
    "#### Aclaraciones documentación"
   ]
  },
  {
   "cell_type": "markdown",
   "id": "f1b58b72",
   "metadata": {},
   "source": [
    "##### Age_range"
   ]
  },
  {
   "cell_type": "markdown",
   "id": "76a36bce",
   "metadata": {},
   "source": [
    "Age_range (str) - a ranking categorization of the ages. The values are as follows:\n",
    "- Infant - 0 to 5 years old\n",
    "- Child - 6 to 14 years old\n",
    "- Teenager - 15 to 17 years old\n",
    "- Young-Adult - 18 to 24 years old\n",
    "- Adult - 25 to 39 years old\n",
    "- Middle-Aged - 40 to 64 years old\n",
    "- Elderly - older than 65 years old\n",
    "- Unknown - characters whose age is unknown"
   ]
  },
  {
   "cell_type": "markdown",
   "id": "d415849c",
   "metadata": {},
   "source": [
    "##### Relevance\n"
   ]
  },
  {
   "cell_type": "markdown",
   "id": "b99cfbb0",
   "metadata": {},
   "source": [
    "Relevance (str) - the relevance of a character in a game and in relation to the protagonist\n",
    "- PA - protagonist - the most important person(s) in the game. In case of is more than one both\n",
    "of them must have the same importance in the plot.\n",
    "- DA - deuteragonist. The second most important character(s) in the plot. In case of being more\n",
    "than one, both must have the same relevance.\n",
    "- SK - sidekick. Those characters accompany the protagonist during all, or most of, the story.\n",
    "They offer constant support to the protagonist by giving advice, battle support, exploration aid,\n",
    "etc. They differ from the deuteragonist as they usually have little to no relevance in the\n",
    "storyline.\n",
    "- MC - the main character. A character that is relevant throughout all, or most part of, the story.\n",
    "This category can include antagonists.\n",
    "- SC - secondary character. A character that is important in the storyline but whose relevance is\n",
    "occasional, be it because their plot just lasts a short amount of time or because they are\n",
    "mentioned throughout the game but barely appear in-game. This category can include\n",
    "antagonists.\n",
    "- MA - main antagonist. The main antagonist(s) of the game. It is relevant throughout the game."
   ]
  },
  {
   "cell_type": "code",
   "execution_count": 33,
   "id": "eaa45017",
   "metadata": {},
   "outputs": [],
   "source": [
    "df_characters = df_characters.drop(columns=['age'])"
   ]
  },
  {
   "cell_type": "code",
   "execution_count": 34,
   "id": "3319e639",
   "metadata": {},
   "outputs": [
    {
     "data": {
      "text/plain": [
       "Index(['name', 'gender', 'game_id', 'age_range', 'playable', 'sexualization',\n",
       "       'id', 'species', 'side', 'relevance', 'romantic_interest'],\n",
       "      dtype='object')"
      ]
     },
     "execution_count": 34,
     "metadata": {},
     "output_type": "execute_result"
    }
   ],
   "source": [
    "df_characters.columns"
   ]
  },
  {
   "cell_type": "code",
   "execution_count": 36,
   "id": "262244ed",
   "metadata": {},
   "outputs": [],
   "source": [
    "df_characters.to_csv('files/characters_limpio.csv',index=False)"
   ]
  }
 ],
 "metadata": {
  "kernelspec": {
   "display_name": "base",
   "language": "python",
   "name": "python3"
  },
  "language_info": {
   "codemirror_mode": {
    "name": "ipython",
    "version": 3
   },
   "file_extension": ".py",
   "mimetype": "text/x-python",
   "name": "python",
   "nbconvert_exporter": "python",
   "pygments_lexer": "ipython3",
   "version": "3.12.7"
  }
 },
 "nbformat": 4,
 "nbformat_minor": 5
}
