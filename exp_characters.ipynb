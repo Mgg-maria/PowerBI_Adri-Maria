{
 "cells": [
  {
   "cell_type": "code",
   "execution_count": 5,
   "id": "1159dfb6",
   "metadata": {},
   "outputs": [],
   "source": [
    "import pandas as pd"
   ]
  },
  {
   "cell_type": "code",
   "execution_count": 6,
   "id": "de6f37fc",
   "metadata": {},
   "outputs": [],
   "source": [
    "df_characters = pd.read_csv('PowerBI_Adri-Maria/files/characters.grivg.csv')"
   ]
  },
  {
   "cell_type": "code",
   "execution_count": 7,
   "id": "41f1bf06",
   "metadata": {},
   "outputs": [
    {
     "name": "stdout",
     "output_type": "stream",
     "text": [
      "<class 'pandas.core.frame.DataFrame'>\n",
      "RangeIndex: 637 entries, 0 to 636\n",
      "Data columns (total 12 columns):\n",
      " #   Column             Non-Null Count  Dtype \n",
      "---  ------             --------------  ----- \n",
      " 0   Name               637 non-null    object\n",
      " 1   Gender             637 non-null    object\n",
      " 2   Game               637 non-null    object\n",
      " 3   Age                637 non-null    object\n",
      " 4   Age_range          637 non-null    object\n",
      " 5   Playable           637 non-null    int64 \n",
      " 6   Sexualization      637 non-null    int64 \n",
      " 7   Id                 637 non-null    object\n",
      " 8   Species            637 non-null    object\n",
      " 9   Side               637 non-null    object\n",
      " 10  Relevance          637 non-null    object\n",
      " 11  Romantic_Interest  637 non-null    object\n",
      "dtypes: int64(2), object(10)\n",
      "memory usage: 59.8+ KB\n"
     ]
    }
   ],
   "source": [
    "df_characters.info()"
   ]
  },
  {
   "cell_type": "code",
   "execution_count": 8,
   "metadata": {},
   "outputs": [
    {
     "data": {
      "text/html": [
       "<div>\n",
       "<style scoped>\n",
       "    .dataframe tbody tr th:only-of-type {\n",
       "        vertical-align: middle;\n",
       "    }\n",
       "\n",
       "    .dataframe tbody tr th {\n",
       "        vertical-align: top;\n",
       "    }\n",
       "\n",
       "    .dataframe thead th {\n",
       "        text-align: right;\n",
       "    }\n",
       "</style>\n",
       "<table border=\"1\" class=\"dataframe\">\n",
       "  <thead>\n",
       "    <tr style=\"text-align: right;\">\n",
       "      <th></th>\n",
       "      <th>Playable</th>\n",
       "      <th>Sexualization</th>\n",
       "    </tr>\n",
       "  </thead>\n",
       "  <tbody>\n",
       "    <tr>\n",
       "      <th>count</th>\n",
       "      <td>637.000000</td>\n",
       "      <td>637.000000</td>\n",
       "    </tr>\n",
       "    <tr>\n",
       "      <th>mean</th>\n",
       "      <td>0.193093</td>\n",
       "      <td>0.086342</td>\n",
       "    </tr>\n",
       "    <tr>\n",
       "      <th>std</th>\n",
       "      <td>0.395035</td>\n",
       "      <td>0.389022</td>\n",
       "    </tr>\n",
       "    <tr>\n",
       "      <th>min</th>\n",
       "      <td>0.000000</td>\n",
       "      <td>0.000000</td>\n",
       "    </tr>\n",
       "    <tr>\n",
       "      <th>25%</th>\n",
       "      <td>0.000000</td>\n",
       "      <td>0.000000</td>\n",
       "    </tr>\n",
       "    <tr>\n",
       "      <th>50%</th>\n",
       "      <td>0.000000</td>\n",
       "      <td>0.000000</td>\n",
       "    </tr>\n",
       "    <tr>\n",
       "      <th>75%</th>\n",
       "      <td>0.000000</td>\n",
       "      <td>0.000000</td>\n",
       "    </tr>\n",
       "    <tr>\n",
       "      <th>max</th>\n",
       "      <td>1.000000</td>\n",
       "      <td>3.000000</td>\n",
       "    </tr>\n",
       "  </tbody>\n",
       "</table>\n",
       "</div>"
      ],
      "text/plain": [
       "         Playable  Sexualization\n",
       "count  637.000000     637.000000\n",
       "mean     0.193093       0.086342\n",
       "std      0.395035       0.389022\n",
       "min      0.000000       0.000000\n",
       "25%      0.000000       0.000000\n",
       "50%      0.000000       0.000000\n",
       "75%      0.000000       0.000000\n",
       "max      1.000000       3.000000"
      ]
     },
     "execution_count": 8,
     "metadata": {},
     "output_type": "execute_result"
    }
   ],
   "source": [
    "df_characters.describe()"
   ]
  },
  {
   "cell_type": "code",
   "execution_count": 9,
   "id": "4f50bf2b",
   "metadata": {},
   "outputs": [
    {
     "data": {
      "text/plain": [
       "Name                 0\n",
       "Gender               0\n",
       "Game                 0\n",
       "Age                  0\n",
       "Age_range            0\n",
       "Playable             0\n",
       "Sexualization        0\n",
       "Id                   0\n",
       "Species              0\n",
       "Side                 0\n",
       "Relevance            0\n",
       "Romantic_Interest    0\n",
       "dtype: int64"
      ]
     },
     "execution_count": 9,
     "metadata": {},
     "output_type": "execute_result"
    }
   ],
   "source": [
    "df_characters.isnull().sum()"
   ]
  },
  {
   "cell_type": "code",
   "execution_count": 13,
   "id": "a1d10523",
   "metadata": {},
   "outputs": [
    {
     "data": {
      "text/plain": [
       "Index(['name', 'gender', 'game', 'age', 'age_range', 'playable',\n",
       "       'sexualization', 'id', 'species', 'side', 'relevance',\n",
       "       'romantic_interest'],\n",
       "      dtype='object')"
      ]
     },
     "execution_count": 13,
     "metadata": {},
     "output_type": "execute_result"
    }
   ],
   "source": [
    "for col  in df_characters:\n",
    "    df_characters.columns = df_characters.columns.str.lower()\n",
    "\n",
    "df_characters.columns"
   ]
  },
  {
   "cell_type": "code",
   "execution_count": 22,
   "id": "28c59b65",
   "metadata": {},
   "outputs": [
    {
     "data": {
      "text/plain": [
       "0      False\n",
       "1      False\n",
       "2      False\n",
       "3      False\n",
       "4      False\n",
       "       ...  \n",
       "632    False\n",
       "633    False\n",
       "634    False\n",
       "635    False\n",
       "636    False\n",
       "Name: name, Length: 637, dtype: bool"
      ]
     },
     "execution_count": 22,
     "metadata": {},
     "output_type": "execute_result"
    }
   ],
   "source": [
    "df_characters['name'].duplicated()\n"
   ]
  },
  {
   "cell_type": "code",
   "execution_count": 24,
   "id": "591b53e4",
   "metadata": {},
   "outputs": [
    {
     "data": {
      "text/plain": [
       "array(['Female', 'Custom', 'Non-binary', 'Male'], dtype=object)"
      ]
     },
     "execution_count": 24,
     "metadata": {},
     "output_type": "execute_result"
    }
   ],
   "source": [
    "df_characters['gender'].unique()"
   ]
  },
  {
   "cell_type": "code",
   "execution_count": null,
   "id": "8bd4bca3",
   "metadata": {},
   "outputs": [
    {
     "data": {
      "text/plain": [
       "array(['CODMW', 'PSS', 'SMO', 'BOTW', 'PSM', 'TW3', 'TWD', 'UT', 'BB',\n",
       "       'SK', 'TLOU', 'BSI', 'JRN', 'GTAV', 'RDR2', 'BL2', 'GOW', 'UC4',\n",
       "       'CODBO2', 'INS', 'PP', 'HLM', 'FC3', 'PSN5', 'TN', 'ER', 'TSPUD',\n",
       "       'NW', 'CH', 'DL', 'NRA', 'IWATE', 'IMM', 'DEL', 'HA', 'CACW',\n",
       "       'ITT', 'TLOU2', 'HLA', 'OAWW', 'DQXI', 'YK0', 'TINGWD', 'DOS2',\n",
       "       'SSDT', 'OABF', 'DMC5', 'FE3H', 'WROEF', 'CLS', 'DC', 'HLKN',\n",
       "       'NITW', 'BY2', 'BRA', 'MGSV', 'TSWP', 'OWB', 'DS2', 'TBOIR', 'COL',\n",
       "       'FLR', 'MSMMM', 'KBOS'], dtype=object)"
      ]
     },
     "execution_count": 25,
     "metadata": {},
     "output_type": "execute_result"
    }
   ],
   "source": [
    "df_characters['game'].unique() ## Voy a llamarlo 'game_id'porque en el CSV de games se llama así la columna."
   ]
  },
  {
   "cell_type": "code",
   "execution_count": 28,
   "id": "2d1ca814",
   "metadata": {},
   "outputs": [],
   "source": [
    "df_characters = df_characters.rename(columns={'game': 'game_id'})"
   ]
  },
  {
   "cell_type": "code",
   "execution_count": null,
   "id": "70bb982a",
   "metadata": {},
   "outputs": [
    {
     "data": {
      "text/html": [
       "<div>\n",
       "<style scoped>\n",
       "    .dataframe tbody tr th:only-of-type {\n",
       "        vertical-align: middle;\n",
       "    }\n",
       "\n",
       "    .dataframe tbody tr th {\n",
       "        vertical-align: top;\n",
       "    }\n",
       "\n",
       "    .dataframe thead th {\n",
       "        text-align: right;\n",
       "    }\n",
       "</style>\n",
       "<table border=\"1\" class=\"dataframe\">\n",
       "  <thead>\n",
       "    <tr style=\"text-align: right;\">\n",
       "      <th></th>\n",
       "      <th>name</th>\n",
       "      <th>gender</th>\n",
       "      <th>game_id</th>\n",
       "      <th>age</th>\n",
       "      <th>age_range</th>\n",
       "      <th>playable</th>\n",
       "      <th>sexualization</th>\n",
       "      <th>id</th>\n",
       "      <th>species</th>\n",
       "      <th>side</th>\n",
       "      <th>relevance</th>\n",
       "      <th>romantic_interest</th>\n",
       "    </tr>\n",
       "  </thead>\n",
       "  <tbody>\n",
       "    <tr>\n",
       "      <th>0</th>\n",
       "      <td>Farah</td>\n",
       "      <td>Female</td>\n",
       "      <td>CODMW</td>\n",
       "      <td>27</td>\n",
       "      <td>Adult</td>\n",
       "      <td>1</td>\n",
       "      <td>0</td>\n",
       "      <td>CODMW_Farah</td>\n",
       "      <td>Human</td>\n",
       "      <td>P</td>\n",
       "      <td>PA</td>\n",
       "      <td>No</td>\n",
       "    </tr>\n",
       "    <tr>\n",
       "      <th>1</th>\n",
       "      <td>Protagonist</td>\n",
       "      <td>Custom</td>\n",
       "      <td>PSS</td>\n",
       "      <td>Teenager</td>\n",
       "      <td>Teenager</td>\n",
       "      <td>1</td>\n",
       "      <td>0</td>\n",
       "      <td>PSS_Protagonist</td>\n",
       "      <td>Human</td>\n",
       "      <td>P</td>\n",
       "      <td>PA</td>\n",
       "      <td>No</td>\n",
       "    </tr>\n",
       "    <tr>\n",
       "      <th>2</th>\n",
       "      <td>Magnolia</td>\n",
       "      <td>Female</td>\n",
       "      <td>PSS</td>\n",
       "      <td>Elderly</td>\n",
       "      <td>Elderly</td>\n",
       "      <td>0</td>\n",
       "      <td>0</td>\n",
       "      <td>PSS_Magnolia</td>\n",
       "      <td>Human</td>\n",
       "      <td>P</td>\n",
       "      <td>SC</td>\n",
       "      <td>No</td>\n",
       "    </tr>\n",
       "    <tr>\n",
       "      <th>3</th>\n",
       "      <td>Sonia</td>\n",
       "      <td>Female</td>\n",
       "      <td>PSS</td>\n",
       "      <td>26</td>\n",
       "      <td>Adult</td>\n",
       "      <td>0</td>\n",
       "      <td>0</td>\n",
       "      <td>PSS_Sonia</td>\n",
       "      <td>Human</td>\n",
       "      <td>P</td>\n",
       "      <td>SC</td>\n",
       "      <td>No</td>\n",
       "    </tr>\n",
       "    <tr>\n",
       "      <th>4</th>\n",
       "      <td>Marnie</td>\n",
       "      <td>Female</td>\n",
       "      <td>PSS</td>\n",
       "      <td>Teenager</td>\n",
       "      <td>Teenager</td>\n",
       "      <td>0</td>\n",
       "      <td>0</td>\n",
       "      <td>PSS_Marnie</td>\n",
       "      <td>Human</td>\n",
       "      <td>B</td>\n",
       "      <td>MC</td>\n",
       "      <td>No</td>\n",
       "    </tr>\n",
       "    <tr>\n",
       "      <th>...</th>\n",
       "      <td>...</td>\n",
       "      <td>...</td>\n",
       "      <td>...</td>\n",
       "      <td>...</td>\n",
       "      <td>...</td>\n",
       "      <td>...</td>\n",
       "      <td>...</td>\n",
       "      <td>...</td>\n",
       "      <td>...</td>\n",
       "      <td>...</td>\n",
       "      <td>...</td>\n",
       "      <td>...</td>\n",
       "    </tr>\n",
       "    <tr>\n",
       "      <th>632</th>\n",
       "      <td>Beni</td>\n",
       "      <td>Male</td>\n",
       "      <td>KBOS</td>\n",
       "      <td>Infant</td>\n",
       "      <td>Infant</td>\n",
       "      <td>0</td>\n",
       "      <td>0</td>\n",
       "      <td>KBOS_Beni</td>\n",
       "      <td>Human</td>\n",
       "      <td>P</td>\n",
       "      <td>SC</td>\n",
       "      <td>No</td>\n",
       "    </tr>\n",
       "    <tr>\n",
       "      <th>633</th>\n",
       "      <td>Taro</td>\n",
       "      <td>Male</td>\n",
       "      <td>KBOS</td>\n",
       "      <td>Child</td>\n",
       "      <td>Child</td>\n",
       "      <td>0</td>\n",
       "      <td>0</td>\n",
       "      <td>KBOS_Taro</td>\n",
       "      <td>Human</td>\n",
       "      <td>P</td>\n",
       "      <td>SC</td>\n",
       "      <td>No</td>\n",
       "    </tr>\n",
       "    <tr>\n",
       "      <th>634</th>\n",
       "      <td>Rusu</td>\n",
       "      <td>Male</td>\n",
       "      <td>KBOS</td>\n",
       "      <td>Adult</td>\n",
       "      <td>Adult</td>\n",
       "      <td>0</td>\n",
       "      <td>0</td>\n",
       "      <td>KBOS_Rusu</td>\n",
       "      <td>Human</td>\n",
       "      <td>P</td>\n",
       "      <td>SC</td>\n",
       "      <td>No</td>\n",
       "    </tr>\n",
       "    <tr>\n",
       "      <th>635</th>\n",
       "      <td>Adira</td>\n",
       "      <td>Female</td>\n",
       "      <td>KBOS</td>\n",
       "      <td>Adult</td>\n",
       "      <td>Adult</td>\n",
       "      <td>0</td>\n",
       "      <td>0</td>\n",
       "      <td>KBOS_Adira</td>\n",
       "      <td>Human</td>\n",
       "      <td>P</td>\n",
       "      <td>SC</td>\n",
       "      <td>No</td>\n",
       "    </tr>\n",
       "    <tr>\n",
       "      <th>636</th>\n",
       "      <td>Hana</td>\n",
       "      <td>Female</td>\n",
       "      <td>KBOS</td>\n",
       "      <td>Adult</td>\n",
       "      <td>Adult</td>\n",
       "      <td>0</td>\n",
       "      <td>0</td>\n",
       "      <td>KBOS_Hana</td>\n",
       "      <td>Human</td>\n",
       "      <td>P</td>\n",
       "      <td>SC</td>\n",
       "      <td>No</td>\n",
       "    </tr>\n",
       "  </tbody>\n",
       "</table>\n",
       "<p>637 rows × 12 columns</p>\n",
       "</div>"
      ],
      "text/plain": [
       "            name  gender game_id       age age_range  playable  sexualization  \\\n",
       "0          Farah  Female   CODMW        27     Adult         1              0   \n",
       "1    Protagonist  Custom     PSS  Teenager  Teenager         1              0   \n",
       "2       Magnolia  Female     PSS   Elderly   Elderly         0              0   \n",
       "3          Sonia  Female     PSS        26     Adult         0              0   \n",
       "4         Marnie  Female     PSS  Teenager  Teenager         0              0   \n",
       "..           ...     ...     ...       ...       ...       ...            ...   \n",
       "632         Beni    Male    KBOS    Infant    Infant         0              0   \n",
       "633         Taro    Male    KBOS     Child     Child         0              0   \n",
       "634         Rusu    Male    KBOS     Adult     Adult         0              0   \n",
       "635        Adira  Female    KBOS     Adult     Adult         0              0   \n",
       "636         Hana  Female    KBOS     Adult     Adult         0              0   \n",
       "\n",
       "                  id species side relevance romantic_interest  \n",
       "0        CODMW_Farah   Human    P        PA                No  \n",
       "1    PSS_Protagonist   Human    P        PA                No  \n",
       "2       PSS_Magnolia   Human    P        SC                No  \n",
       "3          PSS_Sonia   Human    P        SC                No  \n",
       "4         PSS_Marnie   Human    B        MC                No  \n",
       "..               ...     ...  ...       ...               ...  \n",
       "632        KBOS_Beni   Human    P        SC                No  \n",
       "633        KBOS_Taro   Human    P        SC                No  \n",
       "634        KBOS_Rusu   Human    P        SC                No  \n",
       "635       KBOS_Adira   Human    P        SC                No  \n",
       "636        KBOS_Hana   Human    P        SC                No  \n",
       "\n",
       "[637 rows x 12 columns]"
      ]
     },
     "execution_count": 29,
     "metadata": {},
     "output_type": "execute_result"
    }
   ],
   "source": []
  },
  {
   "cell_type": "code",
   "execution_count": null,
   "id": "27b79508",
   "metadata": {},
   "outputs": [],
   "source": []
  },
  {
   "cell_type": "code",
   "execution_count": null,
   "id": "e41e3c26",
   "metadata": {},
   "outputs": [],
   "source": []
  }
 ],
 "metadata": {
  "kernelspec": {
   "display_name": "base",
   "language": "python",
   "name": "python3"
  },
  "language_info": {
   "codemirror_mode": {
    "name": "ipython",
    "version": 3
   },
   "file_extension": ".py",
   "mimetype": "text/x-python",
   "name": "python",
   "nbconvert_exporter": "python",
   "pygments_lexer": "ipython3",
   "version": "3.12.7"
  }
 },
 "nbformat": 4,
 "nbformat_minor": 5
}
