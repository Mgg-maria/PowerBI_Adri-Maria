{
 "cells": [
  {
   "cell_type": "markdown",
   "id": "722b3e2f",
   "metadata": {},
   "source": [
    "``Documentación``"
   ]
  },
  {
   "cell_type": "markdown",
   "id": "4fa78a1d",
   "metadata": {},
   "source": [
    "❌ No utilizaremos esa columna.\n",
    "✅ Usaremos la columna.\n",
    "❓ Dudas sobre la utilidad de la columna.\n",
    "⚠️ Cambios a realizar en la columna.\n",
    "☑️ Cambios realizados"
   ]
  },
  {
   "cell_type": "markdown",
   "id": "a8cb2041",
   "metadata": {},
   "source": [
    "- ✅ Id (str) - El id que identifica al personaje evaluado en esta tabla. ///// No sé si aportará utilidad.\n",
    "- ✅ Sexualized clothing (int) (boolean): Ropa sexualizada - Si la ropa de un personaje está sexualizada (1) o no (0). Sólo necesitan cumplir uno de estos criterios para ser TRUE:\n",
    " 1. El personaje lleva ropa que no es apropiada para su edad: ropa de adulto demasiado sexualizada en niños o ropa sexualizada de tipo infantil en adultos.\n",
    " 2. El personaje lleva ropa que no tiene sentido: tacones altos para correr y luchar, ropa demasiado reveladora en condiciones climáticas extremas, como lluvia intensa o frío, y armaduras que no cubren los órganos vitales.\n",
    " 3. Sólo los personajes femeninos llevan ropa que revela zonas sexualizadas del cuerpo humano como el escote, la parte superior de las mallas, la parte inferior del vientre o las nalgas, mientras que sus homólogos masculinos no.\n",
    "- ✅ Trophy (int)(boolean): Trofeo - El personaje es un trofeo para un personaje principal (1) o no (0). El único propósito del personaje en el juego es ser «ganado» como premio por un personaje masculino. El personaje está cosificado.\n",
    "- ✅ Damsel in distress (int)(boolean): Damisela en apuros. El personaje tiene el papel de damisela en apuros (1) o no (0). El personaje en el juego existe para ser rescatado o salvado por el protagonista o el personaje principal. Si el personaje tiene este rol pero su edad es la de un niño o un bebé esta categoría se considera como negativa, ya que un niño que necesita la protección o ayuda de un adulto no se considera un rol sexista.\n",
    "- ✅ Sexualized Cutscenes (int)(boolean): Animaciones sexualizadas (booleano) - Algunas o todas las animaciones en las que aparece este personaje son sexualizadas mostrándolas de forma sugerente o centrándose innecesariamente en zonas del cuerpo que suelen considerarse sexualmente atractivas, como el escote, los pechos, el pubis y las nalgas.\n",
    "- ✅ Total (int): No aporta valor. Valores del 0 al 3."
   ]
  },
  {
   "cell_type": "markdown",
   "id": "1e0d5ec8",
   "metadata": {},
   "source": [
    "### ``Lectura de archivo sexualization.grivg``"
   ]
  },
  {
   "cell_type": "code",
   "execution_count": 1,
   "id": "ad25c9d0",
   "metadata": {},
   "outputs": [],
   "source": [
    "import pandas as pd "
   ]
  },
  {
   "cell_type": "code",
   "execution_count": 2,
   "id": "68fd328d",
   "metadata": {},
   "outputs": [],
   "source": [
    "df_sex = pd.read_csv('files/sexualization.grivg.csv')"
   ]
  },
  {
   "cell_type": "code",
   "execution_count": 3,
   "id": "541a481d",
   "metadata": {},
   "outputs": [
    {
     "data": {
      "text/html": [
       "<div>\n",
       "<style scoped>\n",
       "    .dataframe tbody tr th:only-of-type {\n",
       "        vertical-align: middle;\n",
       "    }\n",
       "\n",
       "    .dataframe tbody tr th {\n",
       "        vertical-align: top;\n",
       "    }\n",
       "\n",
       "    .dataframe thead th {\n",
       "        text-align: right;\n",
       "    }\n",
       "</style>\n",
       "<table border=\"1\" class=\"dataframe\">\n",
       "  <thead>\n",
       "    <tr style=\"text-align: right;\">\n",
       "      <th></th>\n",
       "      <th>Id</th>\n",
       "      <th>Sexualized_clothing</th>\n",
       "      <th>Trophy</th>\n",
       "      <th>Damsel in Distress</th>\n",
       "      <th>Sexualized Cutscenes</th>\n",
       "      <th>Total</th>\n",
       "    </tr>\n",
       "  </thead>\n",
       "  <tbody>\n",
       "    <tr>\n",
       "      <th>0</th>\n",
       "      <td>CODMW_Farah</td>\n",
       "      <td>0</td>\n",
       "      <td>0</td>\n",
       "      <td>0</td>\n",
       "      <td>0</td>\n",
       "      <td>0</td>\n",
       "    </tr>\n",
       "    <tr>\n",
       "      <th>1</th>\n",
       "      <td>PSS_Protagonist</td>\n",
       "      <td>0</td>\n",
       "      <td>0</td>\n",
       "      <td>0</td>\n",
       "      <td>0</td>\n",
       "      <td>0</td>\n",
       "    </tr>\n",
       "    <tr>\n",
       "      <th>2</th>\n",
       "      <td>PSS_Magnolia</td>\n",
       "      <td>0</td>\n",
       "      <td>0</td>\n",
       "      <td>0</td>\n",
       "      <td>0</td>\n",
       "      <td>0</td>\n",
       "    </tr>\n",
       "    <tr>\n",
       "      <th>3</th>\n",
       "      <td>PSS_Sonia</td>\n",
       "      <td>0</td>\n",
       "      <td>0</td>\n",
       "      <td>0</td>\n",
       "      <td>0</td>\n",
       "      <td>0</td>\n",
       "    </tr>\n",
       "    <tr>\n",
       "      <th>4</th>\n",
       "      <td>PSS_Marnie</td>\n",
       "      <td>0</td>\n",
       "      <td>0</td>\n",
       "      <td>0</td>\n",
       "      <td>0</td>\n",
       "      <td>0</td>\n",
       "    </tr>\n",
       "  </tbody>\n",
       "</table>\n",
       "</div>"
      ],
      "text/plain": [
       "                Id  Sexualized_clothing  Trophy  Damsel in Distress  \\\n",
       "0      CODMW_Farah                    0       0                   0   \n",
       "1  PSS_Protagonist                    0       0                   0   \n",
       "2     PSS_Magnolia                    0       0                   0   \n",
       "3        PSS_Sonia                    0       0                   0   \n",
       "4       PSS_Marnie                    0       0                   0   \n",
       "\n",
       "   Sexualized Cutscenes  Total  \n",
       "0                     0      0  \n",
       "1                     0      0  \n",
       "2                     0      0  \n",
       "3                     0      0  \n",
       "4                     0      0  "
      ]
     },
     "execution_count": 3,
     "metadata": {},
     "output_type": "execute_result"
    }
   ],
   "source": [
    "df_sex.head()"
   ]
  },
  {
   "cell_type": "code",
   "execution_count": 4,
   "id": "ddb1085d",
   "metadata": {},
   "outputs": [
    {
     "name": "stdout",
     "output_type": "stream",
     "text": [
      "<class 'pandas.core.frame.DataFrame'>\n",
      "RangeIndex: 637 entries, 0 to 636\n",
      "Data columns (total 6 columns):\n",
      " #   Column                Non-Null Count  Dtype \n",
      "---  ------                --------------  ----- \n",
      " 0   Id                    637 non-null    object\n",
      " 1   Sexualized_clothing   637 non-null    int64 \n",
      " 2   Trophy                637 non-null    int64 \n",
      " 3   Damsel in Distress    637 non-null    int64 \n",
      " 4   Sexualized Cutscenes  637 non-null    int64 \n",
      " 5   Total                 637 non-null    int64 \n",
      "dtypes: int64(5), object(1)\n",
      "memory usage: 30.0+ KB\n"
     ]
    }
   ],
   "source": [
    "df_sex.info()"
   ]
  },
  {
   "cell_type": "code",
   "execution_count": 5,
   "id": "4b09f9fc",
   "metadata": {},
   "outputs": [
    {
     "data": {
      "text/plain": [
       "Index(['Id', 'Sexualized_clothing', 'Trophy', 'Damsel in Distress',\n",
       "       'Sexualized Cutscenes', 'Total'],\n",
       "      dtype='object')"
      ]
     },
     "execution_count": 5,
     "metadata": {},
     "output_type": "execute_result"
    }
   ],
   "source": [
    "df_sex.columns"
   ]
  },
  {
   "cell_type": "markdown",
   "id": "0ce61625",
   "metadata": {},
   "source": [
    "``Valores únicos por columna``"
   ]
  },
  {
   "cell_type": "code",
   "execution_count": 6,
   "id": "ba8ef459",
   "metadata": {},
   "outputs": [
    {
     "data": {
      "text/plain": [
       "array(['CODMW_Farah', 'PSS_Protagonist', 'PSS_Magnolia', 'PSS_Sonia',\n",
       "       'PSS_Marnie', 'PSS_Oleana', 'SMO_Peach', 'BOTW_Zelda',\n",
       "       'PSM_Protagonist', 'TW3_Ciri', 'TWD_Clementine', 'UT_Frisk',\n",
       "       'BB_Hunter', 'SK_Shield', 'TLOU_Ellie', 'BSI_Elizabeth',\n",
       "       'JRN_Traveler', 'GTAV_Amanda', 'GTAV_Tracy', 'RDR2_Abigail',\n",
       "       'RDR2_Karen', 'RDR2_Mary-Beth', 'RDR2_Molly', 'RDR2_Sadie',\n",
       "       'RDR2_Susan', 'RDR2_Tilly', 'SMO_Tiara', 'BOTW_Mipha',\n",
       "       'BOTW_Urbosa', 'BOTW_Impa', 'BOTW_Riju', 'PSM_Lillie',\n",
       "       'PSM_Lusamine', 'TW3_Yennefer', 'TW3_Triss', 'TW3_Keira',\n",
       "       'TW3_Roach', 'TW3_Crones', 'BL2_Maya', 'BL2_Angel', 'BL2_Lilith',\n",
       "       'BL2_Tannis', 'TWD_Katja', 'TWD_Carley', 'TWD_Lilly', 'TWD_Brenda',\n",
       "       'TWD_Jolene', 'TWD_Molly', 'TWD_Christa', 'TWD_Brie', 'GOW_Freya',\n",
       "       'UC4_Elena', 'UC4_Nadine', 'UT_Toriel', 'UT_Undyne',\n",
       "       'UT_Dr.Alphys', 'UT_Chara', 'GTAV_Michael', 'GTAV_Trevor',\n",
       "       'GTAV_Franklin', 'GTAV_Jimmy', 'GTAV_Lamar', 'GTAV_Lester',\n",
       "       'GTAV_Devin', 'GTAV_Steve', 'GTAV_Chop', 'PSS_Leon', 'PSS_Hop',\n",
       "       'PSS_Rose', 'PSS_Bede', 'CODMW_Alex', 'CODMW_Hadir', 'CODMW_Kyle',\n",
       "       'CODMW_Price', 'CODMW_Barkov', 'RDR2_Arthur', 'RDR2_John',\n",
       "       'RDR2_Bill', 'RDR2_Charles', 'RDR2_Hosea', 'RDR2_Jack',\n",
       "       'RDR2_Javier', 'RDR2_Josiah', 'RDR2_Kieran', 'RDR2_Lenny',\n",
       "       'RDR2_Leopold', 'RDR2_Micah', 'RDR2_Mr.Pearson', 'RDR2_Swanson',\n",
       "       'RDR2_Sean', 'RDR2_Uncle', 'RDR2_Cornwall', 'SMO_Mario',\n",
       "       'SMO_Cappy', 'SMO_Bowser', 'BOTW_Link', 'BOTW_Daruk',\n",
       "       'BOTW_Revali', 'BOTW_Rhoam', 'BOTW_Yunobo', 'BOTW_Sidon',\n",
       "       'BOTW_Teba', 'BOTW_Bludo', 'BOTW_Dorephan', 'BOTW_Kaneli',\n",
       "       'BOTW_Kohga', 'BOTW_DekuTree', 'BOTW_Ganon', 'PSM_Hau',\n",
       "       'PSM_Professor', 'PSM_Guzma', 'PSM_Gladion', 'TW3_Geralt',\n",
       "       'TW3_Emhyr', 'TW3_Dandelion', \"TW3_Avallac'h\", 'TW3_Sigismund',\n",
       "       'TW3_Baron', 'TW3_Eredin', 'TW3_Vesemir', 'TW3_Zoltan',\n",
       "       'TW3_Regis', 'TW3_Lambert', 'TW3_Whoreson', 'TW3_WildHunt',\n",
       "       'CODBO2_Alex', 'CODBO2_Raul', 'CODBO2_Frank', 'CODBO2_Jason',\n",
       "       'CODBO2_Thomas', 'CODBO2_David', 'CODBO2_Jonas', 'CODBO2_Lev',\n",
       "       'CODBO2_Mike', 'CODBO2_Viktor', 'CODBO2_Tian', 'CODBO2_Farid',\n",
       "       'BL2_Axton', 'BL2_Salvador', 'BL2_Zer0', 'BL2_Roland', 'BL2_Brick',\n",
       "       'BL2_Mordecai', 'BL2_Handsome', 'BL2_Wilhelm', 'TWD_Lee',\n",
       "       'TWD_Hershel', 'TWD_Kenny', 'TWD_Duck', 'TWD_Glenn', 'TWD_Larry',\n",
       "       'TWD_Mark', 'TWD_Ben', 'TWD_Andrew', 'TWD_Danny', 'TWD_Chuck',\n",
       "       'TWD_Vernon', 'TWD_Omid', 'TWD_Campman', 'GOW_Kratos',\n",
       "       'GOW_Atreus', 'GOW_Baldur', 'GOW_Modi', 'GOW_Magni', 'GOW_Mimir',\n",
       "       'UC4_Nate', 'UC4_Sully', 'UC4_Sam', 'UC4_Rafe', 'INS_Protagonist',\n",
       "       'INS_CEO', 'UT_Flowey', 'UT_Sans', 'UT_Papyrus', 'UT_Mettaton',\n",
       "       'UT_Asgore', 'UT_Asriel', 'BB_Doll', 'BB_Gahrman', 'BB_Gascoigne',\n",
       "       'BB_Micolash', 'SK_Shovel', 'SK_Black', 'SK_Enchantress',\n",
       "       'SK_King', 'SK_Specter', 'SK_Plague', 'SK_Treasure', 'SK_Mole',\n",
       "       'SK_Tinked', 'SK_Polar', 'SK_Propeller', 'PP_Inspector',\n",
       "       'PP_Jorji', 'PP_Wife', 'PP_Son', 'PP_Mother-in-law', 'PP_Uncle',\n",
       "       'TLOU_Joel', 'TLOU_Tess', 'TLOU_Marlene', 'TLOU_Tommy',\n",
       "       'TLOU_Bill', 'TLOU_Henry', 'TLOU_Sam', 'TLOU_David', 'BSI_Booker',\n",
       "       'BSI_Songbird', 'BSI_Comstock', 'BSI_Robert', 'BSI_Rosalind',\n",
       "       'BSI_Daisy', 'HLM_Jacket', 'HLM_Biker', 'HLM_Girlfriend',\n",
       "       'HLM_Richard', 'HLM_Rasmus', 'HLM_DonJuan', 'HLM_Beard',\n",
       "       'HLM_Dennis', 'HLM_Jonatan', 'HLM_Richter', 'JRN_Ancestor',\n",
       "       'JRN_Companions', 'JRN_War', 'FC3_Jason', 'FC3_Vaas', 'FC3_Grant',\n",
       "       'FC3_Dennis', 'FC3_Daisy', 'FC3_Dr.Earnhardt', 'FC3_Citra',\n",
       "       'FC3_Willis', 'FC3_Liza', 'FC3_Keith', 'FC3_Oliver', 'FC3_Hoyt',\n",
       "       'FC3_Sam', 'FC3_Riley', 'PSN5_Joker', 'PSN5_Igor', 'PSN5_Ryuji',\n",
       "       'PSN5_Kamoshida', 'PSN5_Morgana', 'PSN5_Goro', 'PSN5_Shido',\n",
       "       'PSN5_Lavenza', 'PSN5_Sojiro', 'PSN5_Ann', 'PSN5_Shiho',\n",
       "       'PSN5_Yusuke', 'PSN5_Makoto', 'PSN5_Sae', 'PSN5_Futaba',\n",
       "       'PSN5_Haru', 'PSN5_Madarame', 'PSN5_Kaneshiro', 'TN_Fox',\n",
       "       'TN_Heir', 'ER_Tarnished', 'ER_Melina', 'ER_Finger', 'ER_Queen',\n",
       "       'ER_Two', 'ER_Morgott', 'ER_Maliketh', 'ER_Radagon', 'ER_Elden',\n",
       "       'ER_Ranni', 'ER_Miriel', 'ER_Fia', 'ER_Radhan', 'ER_Rykard',\n",
       "       'ER_Blaidd', 'ER_Malenia', 'ER_Godwyn', 'ER_Mohg', 'ER_Miquella',\n",
       "       'TSPUD_Stanley', 'TSPUD_Narrator', 'NW_White', 'NW_Mikey',\n",
       "       'NW_Green', 'NW_Believers', 'NW_Red', 'NW_Violet', 'NW_Yellow',\n",
       "       'NW_Raz', 'NW_Gabby', 'CH_Cuphead', 'CH_Mugman', 'CH_Elder',\n",
       "       'CH_Devil', 'CH_King', 'CH_Porkrind', 'CH_Chalice', 'DL_Colt',\n",
       "       'DL_Juliana', 'DL_Fia', 'DL_Egor', 'DL_Frank', 'DL_Wenjie',\n",
       "       'DL_Charlie', 'DL_Harriet', 'DL_Aleksis', 'NRA_2B', 'NRA_9S',\n",
       "       'NRA_A2', 'NRA_Pods', 'NRA_Adam', 'NRA_Eve', 'NRA_Red',\n",
       "       'NRA_Commander', 'NRA_Anemone', 'NRA_Pascal', 'NRA_Devola',\n",
       "       'NRA_Popola', 'NRA_Emil', 'IWATE_Cal', 'IWATE_Anemone',\n",
       "       'IWATE_Dys', 'IWATE_Marz', 'IWATE_Rex', 'IWATE_Tangent',\n",
       "       'IWATE_Vace', 'IWATE_Nomi', 'IWATE_Sym', 'IWATE_Tammy',\n",
       "       'IWATE_Protagonist', 'IWATE_Flulu', 'IWATE_Geranium',\n",
       "       'IWATE_Eudicot', 'IWATE_Baculum', 'IWATE_Instance', 'IWATE_Hal',\n",
       "       'IWATE_Tonin', 'IWATE_Utopia', 'IWATE_Rhett', 'IWATE_Congruence',\n",
       "       'IWATE_Seeq', 'IWATE_Kom', 'IWATE_Nougat', 'IWATE_Tirah',\n",
       "       'IWATE_Al', 'IWATE_Bernie', 'IMM_Marissa', 'IMM_One', 'IMM_Other',\n",
       "       'IMM_John', 'IMM_Arthur', 'IMM_Carl', 'IMM_Amy', 'DEL_Harrier',\n",
       "       'DEL_Kim', 'DEL_Alice', 'HA_Zagreus', 'HA_Hades', 'HA_Persephone',\n",
       "       'HA_Nyx', 'HA_Dionysus', 'HA_Hermes', 'HA_Aphrodite',\n",
       "       'HA_Thanatos', 'HA_Megaera', 'HA_Achilles', 'HA_Artemis',\n",
       "       'HA_Poseidon', 'HA_Zeus', 'HA_Demeter', 'HA_Athena', 'HA_Ares',\n",
       "       'CACW_Pizza', 'CACW_Chicory', 'CACW_Blackberry', 'ITT_Cody',\n",
       "       'ITT_May', 'ITT_Rose', 'ITT_Dr.Hakim', 'TLOU2_Ellie', 'TLOU2_Abby',\n",
       "       'TLOU2_Joel', 'TLOU2_Tommy', 'TLOU2_Dina', 'TLOU2_Jesse',\n",
       "       'TLOU2_Lev', 'TLOU2_Yara', 'TLOU2_Manny', 'TLOU2_Owen',\n",
       "       'TLOU2_Nora', 'HLA_Alyx', 'HLA_Eli', 'HLA_Russell', 'HLA_Gary',\n",
       "       'HLA_G-Man', 'OAWW_Ku', 'OAWW_Naru', 'OAWW_Ori', 'OAWW_Gumo',\n",
       "       'OAWW_Kwolok', 'OAWW_Sein', 'OAWW_Baur', 'OAWW_Shriek',\n",
       "       'DQXI_Hero', 'DQXI_Rab', 'DQXI_Serena', 'DQXI_Jade', 'DQXI_Erik',\n",
       "       'DQXI_Sylvando', 'DQXI_Veronica', 'DQXI_King', 'DQXI_Jasper',\n",
       "       'DQXI_Hendrik', 'DQXI_Mordegon', 'DQXI_Calasmos', 'DQXI_Serenica',\n",
       "       'YK0_Kiryu', 'YK0_Nishikiyama', 'YK0_Daisaku', 'YK0_Keiji',\n",
       "       'YK0_Hiroki', 'YK0_Soehi', 'YK0_Tachibana', 'YK0_Goro',\n",
       "       'YK0_Shimano', 'YK0_Sagawa', 'YK0_Makoto', 'YK0_Wen', 'YK0_Homare',\n",
       "       'YK0_Oda', 'YK0_Reina', 'YK0_Sera', 'YK0_Lao', 'TINGWD_User',\n",
       "       'TINGWD_Game', 'TINGWD_GiGi', 'TINGWD_Glitch', 'TINGWD_Creator',\n",
       "       'DOS2_Godwoken', 'DOS2_Alexandar', 'DOS2_Dallis', 'DOS2_Lucian',\n",
       "       'DOS2_Braccus', 'DOS2_Beast', 'DOS2_Sebille', 'DOS2_Ifan',\n",
       "       'DOS2_Red', 'DOS2_Fane', 'DOS2_Lohse', 'SSDT_Sekiro', 'SSDT_Kuro',\n",
       "       'SSDT_Commander', 'SSDT_Isshin', 'SSDT_Genichiro', 'SSDT_Emma',\n",
       "       'SSDT_Owl', 'SSDT_Sculptor', 'OABF_Ori', 'OABF_Kuro', 'OABF_Naru',\n",
       "       'OABF_Gumo', 'OABF_Sein', 'DMC5_Nero', 'DMC5_Dante', 'DMC5_Nico',\n",
       "       'DMC5_V', 'DMC5_Urizen', 'DMC5_Lady', 'DMC5_Trish', 'DMC5_Vergil',\n",
       "       'FE3H_Byleth', 'FE3H_Sothis', 'FE3H_Edelgard', 'FE3H_Dimitri',\n",
       "       'FE3H_Claude', 'FE3H_Jeralt', 'FE3H_Rhea', 'FE3H_Flame',\n",
       "       'FE3H_Nemesis', 'FE3H_Aelfric', 'FE3H_Thales', 'WROEF_Edith',\n",
       "       'WROEF_Edie', 'WROEF_Dawn', 'WROEF_Sven', 'WROEF_Molly',\n",
       "       'WROEF_Barbara', 'WROEF_Sanjay', 'WROEF_Lewis', 'WROEF_Milton',\n",
       "       'WROEF_Christopher', 'WROEF_Sam', 'WROEF_Gus', 'WROEF_Gregory',\n",
       "       'WROEF_Kay', 'WROEF_Walter', 'WROEF_Calvin', 'WROEF_Odin',\n",
       "       'CLS_Madeline', 'CLS_Celia', 'CLS_Theo', 'CLS_Badeline',\n",
       "       'CLS_Mr.Oshiro', 'CLS_Bird', 'DC_Prisoner', 'DC_Collector',\n",
       "       'DC_King', 'DC_Tutorial', 'DC_Gollum', 'HLKN_Knight', 'HLKN_Pale',\n",
       "       'HLKN_Hornet', 'HLKN_Radiance', 'HLKN_Hollow', 'HLKN_Mr.Mushroom',\n",
       "       'HLKN_Lurien', 'HLKN_Monomon', 'HLKN_Herrah', 'HLKN_Quirrel',\n",
       "       'HLKN_Cloth', 'HLKN_Cornifer', 'HLKN_Tiso', 'HLKN_Zote',\n",
       "       'HLKN_White', 'HLKN_Elderburg', 'NITW_Mae', 'NITW_Bea',\n",
       "       'NITW_Gregg', 'NITW_Angus', 'NITW_Casey', 'NITW_Black',\n",
       "       'NITW_Germ', 'NITW_Aunt', 'NITW_Cult', 'BY2_Bayonetta', 'BY2_Enzo',\n",
       "       'BY2_Jeanne', 'BY2_Inferno', 'BY2_Lumen', 'BY2_Balder', 'BY2_Luka',\n",
       "       'BY2_Loki', 'BY2_Rodin', 'BY2_Rosa', 'BY2_Loptr', 'BRA_Vella',\n",
       "       'BRA_Levina', 'BRA_Jessie', \"BRA_Ch't\", 'BRA_Maggie', 'BRA_Gus',\n",
       "       'BRA_Brommel', 'BRA_Morelia', 'BRA_Husker', 'BRA_Alex', 'BRA_Shay',\n",
       "       'BRA_Hope', 'BRA_Marek', 'BRA_Grabbin', 'BRA_Ray', 'BRA_Rocky',\n",
       "       'MGSV_Venom', 'MGSV_Quiet', 'MGSV_Revolver', 'MGSV_Kazuhira',\n",
       "       'MGSV_Dr.Huey', 'MGSV_Code', 'MGSV_Eli', 'MGSV_Zero', 'MGSV_Skull',\n",
       "       'MGSV_Sahelanthropus', 'TSWP_Swapper', 'TSWP_Head', 'TSWP_Dennet',\n",
       "       'TSWP_Chalmers', 'TSWP_Marcus', 'TSWP_Captain', 'OWB_Otus',\n",
       "       'OWB_Asio', 'OWB_Geddy', 'OWB_Alphonse', 'OWB_Twig', 'OWB_Dirk',\n",
       "       'OWB_Molstrom', 'OWB_Solus', 'DS2_Bearer', 'DS2_Emerald',\n",
       "       'DS2_Nashandra', 'DS2_Vendrick', 'DS2_Aldia', 'TBOIR_Isaac',\n",
       "       'TBOIR_Mother', 'TBOIR_Magdalene', 'TBOIR_Cain', 'TBOIR_Judas',\n",
       "       'TBOIR_???', 'TBOIR_Eve', 'TBOIR_Samson', 'TBOIR_Azazel',\n",
       "       'TBOIR_Lazarus', 'TBOIR_The', 'COL_Aurora', 'COL_Duke',\n",
       "       'COL_Igniculus', 'COL_Lady', 'COL_Rubella', 'COL_Finn',\n",
       "       'COL_Norah', 'COL_Robert', 'COL_Tristis', 'COL_Cordelia',\n",
       "       'COL_Umbra', 'COL_Oengus', 'COL_Genovefa', 'FLR_FLorence',\n",
       "       'FLR_Krish', 'MSMMM_Miles', 'MSMMM_Simon', 'MSMMM_Rio',\n",
       "       'MSMMM_Rhino', 'MSMMM_Parker', 'MSMMM_Ganke', 'MSMMM_Aaron',\n",
       "       'MSMMM_Danika', 'MSMMM_Gloria', 'MSMMM_Hailey', 'MSMMM_Rick',\n",
       "       'MSMMM_Phin', 'KBOS_Kena', 'KBOS_Rot', 'KBOS_Toshi', 'KBOS_Zajuro',\n",
       "       'KBOS_Saiya', 'KBOS_Beni', 'KBOS_Taro', 'KBOS_Rusu', 'KBOS_Adira',\n",
       "       'KBOS_Hana'], dtype=object)"
      ]
     },
     "execution_count": 6,
     "metadata": {},
     "output_type": "execute_result"
    }
   ],
   "source": [
    "df_sex[\"Id\"].unique()"
   ]
  },
  {
   "cell_type": "code",
   "execution_count": 7,
   "id": "fa33ff69",
   "metadata": {},
   "outputs": [
    {
     "data": {
      "text/plain": [
       "array([0, 1], dtype=int64)"
      ]
     },
     "execution_count": 7,
     "metadata": {},
     "output_type": "execute_result"
    }
   ],
   "source": [
    "df_sex[\"Sexualized_clothing\"].unique() "
   ]
  },
  {
   "cell_type": "code",
   "execution_count": 8,
   "id": "ec8dab3d",
   "metadata": {},
   "outputs": [
    {
     "data": {
      "text/plain": [
       "array([0, 1], dtype=int64)"
      ]
     },
     "execution_count": 8,
     "metadata": {},
     "output_type": "execute_result"
    }
   ],
   "source": [
    "df_sex[\"Trophy\"].unique() "
   ]
  },
  {
   "cell_type": "code",
   "execution_count": 9,
   "id": "eba91723",
   "metadata": {},
   "outputs": [
    {
     "data": {
      "text/plain": [
       "array([0, 1], dtype=int64)"
      ]
     },
     "execution_count": 9,
     "metadata": {},
     "output_type": "execute_result"
    }
   ],
   "source": [
    "df_sex[\"Damsel in Distress\"].unique() "
   ]
  },
  {
   "cell_type": "code",
   "execution_count": 10,
   "id": "b735eb78",
   "metadata": {},
   "outputs": [
    {
     "data": {
      "text/plain": [
       "array([0, 1], dtype=int64)"
      ]
     },
     "execution_count": 10,
     "metadata": {},
     "output_type": "execute_result"
    }
   ],
   "source": [
    "df_sex[\"Sexualized Cutscenes\"].unique() "
   ]
  },
  {
   "cell_type": "code",
   "execution_count": 11,
   "id": "2a10f20f",
   "metadata": {},
   "outputs": [
    {
     "data": {
      "text/plain": [
       "array([0, 2, 1, 3], dtype=int64)"
      ]
     },
     "execution_count": 11,
     "metadata": {},
     "output_type": "execute_result"
    }
   ],
   "source": [
    "df_sex[\"Total\"].unique()  "
   ]
  },
  {
   "cell_type": "markdown",
   "id": "bdecc9a3",
   "metadata": {},
   "source": [
    "``Cambio columnas a minusculas``"
   ]
  },
  {
   "cell_type": "code",
   "execution_count": 12,
   "id": "108d8b38",
   "metadata": {},
   "outputs": [],
   "source": [
    "df_sex.columns = df_sex.columns.str.lower()"
   ]
  },
  {
   "cell_type": "code",
   "execution_count": 13,
   "id": "b65d9c8d",
   "metadata": {},
   "outputs": [
    {
     "data": {
      "text/plain": [
       "Index(['id', 'sexualized_clothing', 'trophy', 'damsel in distress',\n",
       "       'sexualized cutscenes', 'total'],\n",
       "      dtype='object')"
      ]
     },
     "execution_count": 13,
     "metadata": {},
     "output_type": "execute_result"
    }
   ],
   "source": [
    "df_sex.columns"
   ]
  },
  {
   "cell_type": "markdown",
   "id": "29ddb886",
   "metadata": {},
   "source": [
    "``Gestión de duplicados``"
   ]
  },
  {
   "cell_type": "code",
   "execution_count": 14,
   "id": "c39898bf",
   "metadata": {},
   "outputs": [
    {
     "data": {
      "text/plain": [
       "0"
      ]
     },
     "execution_count": 14,
     "metadata": {},
     "output_type": "execute_result"
    }
   ],
   "source": [
    "df_sex.duplicated().sum()"
   ]
  },
  {
   "cell_type": "markdown",
   "id": "98e13948",
   "metadata": {},
   "source": [
    "``Gestión de nulos``"
   ]
  },
  {
   "cell_type": "code",
   "execution_count": 15,
   "id": "ec211fbd",
   "metadata": {},
   "outputs": [
    {
     "data": {
      "text/plain": [
       "id                      0\n",
       "sexualized_clothing     0\n",
       "trophy                  0\n",
       "damsel in distress      0\n",
       "sexualized cutscenes    0\n",
       "total                   0\n",
       "dtype: int64"
      ]
     },
     "execution_count": 15,
     "metadata": {},
     "output_type": "execute_result"
    }
   ],
   "source": [
    "df_sex.isnull().sum()"
   ]
  },
  {
   "cell_type": "code",
   "execution_count": null,
   "id": "402750c1",
   "metadata": {},
   "outputs": [],
   "source": []
  }
 ],
 "metadata": {
  "kernelspec": {
   "display_name": "base",
   "language": "python",
   "name": "python3"
  },
  "language_info": {
   "codemirror_mode": {
    "name": "ipython",
    "version": 3
   },
   "file_extension": ".py",
   "mimetype": "text/x-python",
   "name": "python",
   "nbconvert_exporter": "python",
   "pygments_lexer": "ipython3",
   "version": "3.12.7"
  }
 },
 "nbformat": 4,
 "nbformat_minor": 5
}
