{
 "cells": [
  {
   "cell_type": "markdown",
   "id": "6970628b",
   "metadata": {},
   "source": [
    "### ``Documentación``"
   ]
  },
  {
   "cell_type": "markdown",
   "id": "958ed171",
   "metadata": {},
   "source": [
    "❌ No utilizaremos esa columna.\n",
    "✅ Usaremos la columna.\n",
    "❓ Dudas sobre la utilidad de la columna.\n",
    "⚠️ Cambios a realizar en la columna.\n",
    "☑️ Cambios realizados."
   ]
  },
  {
   "cell_type": "markdown",
   "id": "b91e8569",
   "metadata": {},
   "source": [
    "- ✅ Game_Id (str) Clave primaria - Un conjunto único de letras y números que identifica un juego\n",
    "- ✅ Title (str) - El título del juego\n",
    "- ✅⚠️ Release (str) - La fecha en que el juego fue lanzado por primera vez ///// Podríamos cambiar el formato\n",
    "- ❌ Series (str) - Serie a la que pertenece el juego, si existe. **BORRAMOS**\n",
    "- ✅ Genre (str) - Género principal del juego.\n",
    "- ✅ Sub-genre (str) - Subgénero principal del juego.\n",
    "- ✅ Developer (str) - Desarrollador del juego\n",
    "- ✅ Publisher (str) - Editor del juego\n",
    "- ✅ Country (str) - País del desarrollador del juego\n",
    "- ✅ Platform (str) - Plataformas en las que está disponible el juego. En caso de que el juego esté disponible en otras plataformas años después, sólo se anotará la original.\n",
    "- ✅ PEGI (int) - La clasificación de la Información Paneuropea sobre Juegos para ese juego. Indica la edad mínima recomendada para un videojuego.\n",
    "- ✅ Customizable_main: Personalización (str) - Si el juego ofrece la opción de personalizar o no al personaje. Contiene tres valores: 'Sí', “No” y “No binario”.\n",
    "- ✅ Protagonist: Protagonista (int) - Número de protagonistas para ese juego.\n",
    "- ✅ Protagonist_non_male (int) - número de protagonistas no masculinos. Es decir, mujeres, no binarios y personajes personalizables.\n",
    "- ✅ Relevant_males (int) - personajes masculinos del juego.\n",
    "- ✅ Relevant_no_males (int) - personajes no masculinos en el juego\n",
    "- ✅ Percentage_non_male (float) - porcentaje de personajes no masculinos \n",
    "- ✅ Criteria (str) - Criterios para seleccionar el juego. Contiene tres valores: “TR” - más valorado “MS” - más vendido “SR” - ventas y valoración.\n",
    "- ✅ Director (str) - género del director del juego. Puede contener 4 valores: “M” - masculino “F” - femenino.\n",
    "- ✅ Total_team (int) - número de personas principales implicadas en la creación del juego. Incluye programadores principales, desarrolladores de directores, productores, artistas y diseñadores.\n",
    "- ✅ Female_team (int) - número de integrantes del equipo que son mujeres.\n",
    "- ✅ Team_percentage (float) - porcentaje de mujeres en el equipo.\n",
    "- ✅⚠️☑️ Metacritic (float) - puntuación sobre diez otorgada al juego por Metacritic. ///// El nombre de la columna tiene un espacio al final.\n",
    "- ✅⚠️☑️ Destructoid (float) - puntuación sobre diez otorgada al juego por Destructoid. ///// Nulos.\n",
    "- ✅⚠️☑️ IGN (float) - puntuación sobre diez otorgada al juego por IGN. ///// Nulos.\n",
    "- ✅⚠️☑️ GameSpot (float) - puntuación sobre diez otorgada al juego por GameSpot. ///// Nulos.\n",
    "- ✅ Avg_reviews (float) - la media de las cuatro columnas anteriores."
   ]
  },
  {
   "cell_type": "markdown",
   "id": "cae42396",
   "metadata": {},
   "source": [
    "### ``Lectura de archivo games.grivg``"
   ]
  },
  {
   "cell_type": "code",
   "execution_count": 2,
   "id": "0d6465ae",
   "metadata": {},
   "outputs": [],
   "source": [
    "import pandas as pd"
   ]
  },
  {
   "cell_type": "code",
   "execution_count": 3,
   "id": "88c1d0d0",
   "metadata": {},
   "outputs": [],
   "source": [
    "df_games = pd.read_csv('files/games.grivg.csv')"
   ]
  },
  {
   "cell_type": "code",
   "execution_count": 4,
   "id": "0c8e775c",
   "metadata": {},
   "outputs": [
    {
     "data": {
      "text/html": [
       "<div>\n",
       "<style scoped>\n",
       "    .dataframe tbody tr th:only-of-type {\n",
       "        vertical-align: middle;\n",
       "    }\n",
       "\n",
       "    .dataframe tbody tr th {\n",
       "        vertical-align: top;\n",
       "    }\n",
       "\n",
       "    .dataframe thead th {\n",
       "        text-align: right;\n",
       "    }\n",
       "</style>\n",
       "<table border=\"1\" class=\"dataframe\">\n",
       "  <thead>\n",
       "    <tr style=\"text-align: right;\">\n",
       "      <th></th>\n",
       "      <th>Game_Id</th>\n",
       "      <th>Title</th>\n",
       "      <th>Release</th>\n",
       "      <th>Series</th>\n",
       "      <th>Genre</th>\n",
       "      <th>Sub-genre</th>\n",
       "      <th>Developer</th>\n",
       "      <th>Publisher</th>\n",
       "      <th>Country</th>\n",
       "      <th>Platform</th>\n",
       "      <th>...</th>\n",
       "      <th>Director</th>\n",
       "      <th>Total_team</th>\n",
       "      <th>female_team</th>\n",
       "      <th>Team_percentage</th>\n",
       "      <th>Metacritic</th>\n",
       "      <th>Destructoid</th>\n",
       "      <th>IGN</th>\n",
       "      <th>GameSpot</th>\n",
       "      <th>Avg_Reviews</th>\n",
       "      <th>Unnamed: 27</th>\n",
       "    </tr>\n",
       "  </thead>\n",
       "  <tbody>\n",
       "    <tr>\n",
       "      <th>0</th>\n",
       "      <td>GTAV</td>\n",
       "      <td>Grand Theft Auto V</td>\n",
       "      <td>Nov-13</td>\n",
       "      <td>GTA</td>\n",
       "      <td>Action-adventure</td>\n",
       "      <td>Action-adventure</td>\n",
       "      <td>Rockstar North</td>\n",
       "      <td>Rockstar Games</td>\n",
       "      <td>GBR</td>\n",
       "      <td>Multi</td>\n",
       "      <td>...</td>\n",
       "      <td>M</td>\n",
       "      <td>7</td>\n",
       "      <td>0</td>\n",
       "      <td>0%</td>\n",
       "      <td>9.7</td>\n",
       "      <td>9.0</td>\n",
       "      <td>10.0</td>\n",
       "      <td>9.0</td>\n",
       "      <td>9.4</td>\n",
       "      <td>NaN</td>\n",
       "    </tr>\n",
       "    <tr>\n",
       "      <th>1</th>\n",
       "      <td>PSS</td>\n",
       "      <td>Pokémon Sword/Shield</td>\n",
       "      <td>Nov-19</td>\n",
       "      <td>Pokémon</td>\n",
       "      <td>RPG</td>\n",
       "      <td>RPG</td>\n",
       "      <td>Game Freak</td>\n",
       "      <td>Nintendo</td>\n",
       "      <td>JPN</td>\n",
       "      <td>Nintendo Switch</td>\n",
       "      <td>...</td>\n",
       "      <td>M</td>\n",
       "      <td>9</td>\n",
       "      <td>1</td>\n",
       "      <td>11%</td>\n",
       "      <td>8.0</td>\n",
       "      <td>7.0</td>\n",
       "      <td>9.3</td>\n",
       "      <td>9.0</td>\n",
       "      <td>8.3</td>\n",
       "      <td>NaN</td>\n",
       "    </tr>\n",
       "    <tr>\n",
       "      <th>2</th>\n",
       "      <td>CODMW</td>\n",
       "      <td>Call of Duty: Modern Warfare</td>\n",
       "      <td>Oct-19</td>\n",
       "      <td>Call of Duty</td>\n",
       "      <td>Action</td>\n",
       "      <td>FPS</td>\n",
       "      <td>Infinity Ward</td>\n",
       "      <td>Activision</td>\n",
       "      <td>USA</td>\n",
       "      <td>Multi</td>\n",
       "      <td>...</td>\n",
       "      <td>M</td>\n",
       "      <td>11</td>\n",
       "      <td>0</td>\n",
       "      <td>0%</td>\n",
       "      <td>8.0</td>\n",
       "      <td>8.0</td>\n",
       "      <td>8.0</td>\n",
       "      <td>7.0</td>\n",
       "      <td>7.8</td>\n",
       "      <td>NaN</td>\n",
       "    </tr>\n",
       "    <tr>\n",
       "      <th>3</th>\n",
       "      <td>RDR2</td>\n",
       "      <td>Red Dead Redemption 2</td>\n",
       "      <td>Dec-18</td>\n",
       "      <td>Red Dead</td>\n",
       "      <td>Action-adventure</td>\n",
       "      <td>Action-adventure</td>\n",
       "      <td>Rockstar Studios</td>\n",
       "      <td>Rockstar Games</td>\n",
       "      <td>USA</td>\n",
       "      <td>Multi</td>\n",
       "      <td>...</td>\n",
       "      <td>M</td>\n",
       "      <td>7</td>\n",
       "      <td>0</td>\n",
       "      <td>0%</td>\n",
       "      <td>9.7</td>\n",
       "      <td>9.5</td>\n",
       "      <td>10.0</td>\n",
       "      <td>9.0</td>\n",
       "      <td>9.6</td>\n",
       "      <td>NaN</td>\n",
       "    </tr>\n",
       "    <tr>\n",
       "      <th>4</th>\n",
       "      <td>SMO</td>\n",
       "      <td>Super Mario Odyssey</td>\n",
       "      <td>Oct-17</td>\n",
       "      <td>Super Mario</td>\n",
       "      <td>Action-adventure</td>\n",
       "      <td>Action-adventure</td>\n",
       "      <td>Nintendo EDP</td>\n",
       "      <td>Nintendo</td>\n",
       "      <td>JPN</td>\n",
       "      <td>Nintendo Switch</td>\n",
       "      <td>...</td>\n",
       "      <td>M</td>\n",
       "      <td>11</td>\n",
       "      <td>1</td>\n",
       "      <td>9%</td>\n",
       "      <td>9.7</td>\n",
       "      <td>9.5</td>\n",
       "      <td>10.0</td>\n",
       "      <td>10.0</td>\n",
       "      <td>9.8</td>\n",
       "      <td>NaN</td>\n",
       "    </tr>\n",
       "  </tbody>\n",
       "</table>\n",
       "<p>5 rows × 28 columns</p>\n",
       "</div>"
      ],
      "text/plain": [
       "  Game_Id                         Title Release        Series  \\\n",
       "0    GTAV            Grand Theft Auto V  Nov-13           GTA   \n",
       "1     PSS          Pokémon Sword/Shield  Nov-19       Pokémon   \n",
       "2   CODMW  Call of Duty: Modern Warfare  Oct-19  Call of Duty   \n",
       "3    RDR2         Red Dead Redemption 2  Dec-18      Red Dead   \n",
       "4     SMO           Super Mario Odyssey  Oct-17   Super Mario   \n",
       "\n",
       "              Genre         Sub-genre         Developer       Publisher  \\\n",
       "0  Action-adventure  Action-adventure    Rockstar North  Rockstar Games   \n",
       "1               RPG               RPG        Game Freak        Nintendo   \n",
       "2            Action               FPS     Infinity Ward      Activision   \n",
       "3  Action-adventure  Action-adventure  Rockstar Studios  Rockstar Games   \n",
       "4  Action-adventure  Action-adventure      Nintendo EDP        Nintendo   \n",
       "\n",
       "  Country         Platform  ...  Director Total_team  female_team  \\\n",
       "0     GBR            Multi  ...         M          7            0   \n",
       "1     JPN  Nintendo Switch  ...         M          9            1   \n",
       "2     USA            Multi  ...         M         11            0   \n",
       "3     USA            Multi  ...         M          7            0   \n",
       "4     JPN  Nintendo Switch  ...         M         11            1   \n",
       "\n",
       "   Team_percentage  Metacritic   Destructoid   IGN GameSpot Avg_Reviews  \\\n",
       "0               0%          9.7          9.0  10.0      9.0         9.4   \n",
       "1              11%          8.0          7.0   9.3      9.0         8.3   \n",
       "2               0%          8.0          8.0   8.0      7.0         7.8   \n",
       "3               0%          9.7          9.5  10.0      9.0         9.6   \n",
       "4               9%          9.7          9.5  10.0     10.0         9.8   \n",
       "\n",
       "   Unnamed: 27  \n",
       "0          NaN  \n",
       "1          NaN  \n",
       "2          NaN  \n",
       "3          NaN  \n",
       "4          NaN  \n",
       "\n",
       "[5 rows x 28 columns]"
      ]
     },
     "execution_count": 4,
     "metadata": {},
     "output_type": "execute_result"
    }
   ],
   "source": [
    "df_games.head()"
   ]
  },
  {
   "cell_type": "markdown",
   "id": "d3836bdd",
   "metadata": {},
   "source": [
    "``Distribución filas y columnas``"
   ]
  },
  {
   "cell_type": "code",
   "execution_count": 5,
   "id": "57f06617",
   "metadata": {},
   "outputs": [
    {
     "data": {
      "text/plain": [
       "(64, 28)"
      ]
     },
     "execution_count": 5,
     "metadata": {},
     "output_type": "execute_result"
    }
   ],
   "source": [
    "df_games.shape"
   ]
  },
  {
   "cell_type": "markdown",
   "id": "4e9f1803",
   "metadata": {},
   "source": [
    "``Nombre de las columnas``"
   ]
  },
  {
   "cell_type": "code",
   "execution_count": 6,
   "id": "5ec06c75",
   "metadata": {},
   "outputs": [
    {
     "data": {
      "text/plain": [
       "Index(['Game_Id', 'Title', 'Release', 'Series', 'Genre', 'Sub-genre',\n",
       "       'Developer', 'Publisher', 'Country', 'Platform', 'PEGI',\n",
       "       'Customizable_main', 'Protagonist', 'Protagonist_Non_Male',\n",
       "       'Relevant_males', 'Relevant_no_males', 'Percentage_non_male',\n",
       "       'Criteria', 'Director', 'Total_team', 'female_team', 'Team_percentage',\n",
       "       'Metacritic ', 'Destructoid', 'IGN', 'GameSpot', 'Avg_Reviews',\n",
       "       'Unnamed: 27'],\n",
       "      dtype='object')"
      ]
     },
     "execution_count": 6,
     "metadata": {},
     "output_type": "execute_result"
    }
   ],
   "source": [
    "df_games.columns"
   ]
  },
  {
   "cell_type": "markdown",
   "id": "647f0070",
   "metadata": {},
   "source": [
    "``Tipo de datos de las columnas``"
   ]
  },
  {
   "cell_type": "code",
   "execution_count": 7,
   "id": "f06ba3d2",
   "metadata": {},
   "outputs": [
    {
     "name": "stdout",
     "output_type": "stream",
     "text": [
      "<class 'pandas.core.frame.DataFrame'>\n",
      "RangeIndex: 64 entries, 0 to 63\n",
      "Data columns (total 28 columns):\n",
      " #   Column                Non-Null Count  Dtype  \n",
      "---  ------                --------------  -----  \n",
      " 0   Game_Id               64 non-null     object \n",
      " 1   Title                 64 non-null     object \n",
      " 2   Release               64 non-null     object \n",
      " 3   Series                27 non-null     object \n",
      " 4   Genre                 64 non-null     object \n",
      " 5   Sub-genre             64 non-null     object \n",
      " 6   Developer             64 non-null     object \n",
      " 7   Publisher             64 non-null     object \n",
      " 8   Country               64 non-null     object \n",
      " 9   Platform              64 non-null     object \n",
      " 10  PEGI                  64 non-null     int64  \n",
      " 11  Customizable_main     64 non-null     object \n",
      " 12  Protagonist           64 non-null     int64  \n",
      " 13  Protagonist_Non_Male  64 non-null     int64  \n",
      " 14  Relevant_males        64 non-null     int64  \n",
      " 15  Relevant_no_males     64 non-null     int64  \n",
      " 16  Percentage_non_male   64 non-null     object \n",
      " 17  Criteria              64 non-null     object \n",
      " 18  Director              64 non-null     object \n",
      " 19  Total_team            64 non-null     int64  \n",
      " 20  female_team           64 non-null     int64  \n",
      " 21  Team_percentage       64 non-null     object \n",
      " 22  Metacritic            64 non-null     float64\n",
      " 23  Destructoid           57 non-null     float64\n",
      " 24  IGN                   62 non-null     float64\n",
      " 25  GameSpot              62 non-null     float64\n",
      " 26  Avg_Reviews           64 non-null     float64\n",
      " 27  Unnamed: 27           0 non-null      float64\n",
      "dtypes: float64(6), int64(7), object(15)\n",
      "memory usage: 14.1+ KB\n"
     ]
    }
   ],
   "source": [
    "df_games.info()"
   ]
  },
  {
   "cell_type": "markdown",
   "id": "d52f3b6f",
   "metadata": {},
   "source": [
    "``Cantidad de nulos de las columnas``"
   ]
  },
  {
   "cell_type": "code",
   "execution_count": 8,
   "id": "347768f1",
   "metadata": {},
   "outputs": [
    {
     "data": {
      "text/plain": [
       "Game_Id                  0\n",
       "Title                    0\n",
       "Release                  0\n",
       "Series                  37\n",
       "Genre                    0\n",
       "Sub-genre                0\n",
       "Developer                0\n",
       "Publisher                0\n",
       "Country                  0\n",
       "Platform                 0\n",
       "PEGI                     0\n",
       "Customizable_main        0\n",
       "Protagonist              0\n",
       "Protagonist_Non_Male     0\n",
       "Relevant_males           0\n",
       "Relevant_no_males        0\n",
       "Percentage_non_male      0\n",
       "Criteria                 0\n",
       "Director                 0\n",
       "Total_team               0\n",
       "female_team              0\n",
       "Team_percentage          0\n",
       "Metacritic               0\n",
       "Destructoid              7\n",
       "IGN                      2\n",
       "GameSpot                 2\n",
       "Avg_Reviews              0\n",
       "Unnamed: 27             64\n",
       "dtype: int64"
      ]
     },
     "execution_count": 8,
     "metadata": {},
     "output_type": "execute_result"
    }
   ],
   "source": [
    "df_games.isnull().sum()"
   ]
  },
  {
   "cell_type": "markdown",
   "id": "ada77a0e",
   "metadata": {},
   "source": [
    "``Valores únicos por columna``"
   ]
  },
  {
   "cell_type": "code",
   "execution_count": 10,
   "id": "9c0bb920",
   "metadata": {},
   "outputs": [
    {
     "data": {
      "text/plain": [
       "array(['GTAV', 'PSS', 'CODMW', 'RDR2', 'SMO', 'BOTW', 'PSM', 'TW3',\n",
       "       'CODBO2', 'BL2', 'TWD', 'GOW', 'UC4', 'INS', 'UT', 'BB', 'SK',\n",
       "       'PP', 'TLOU', 'BSI', 'HLM', 'JRN', 'FC3', 'PSN5', 'TN', 'ER',\n",
       "       'TSPUD', 'NW', 'CH', 'DL', 'NRA', 'IWATE', 'IMM', 'DEL', 'HA',\n",
       "       'CACW', 'ITT', 'TLOU2', 'HLA', 'OAWW', 'DQXI', 'YK0', 'TINGWD',\n",
       "       'DOS2', 'SSDT', 'OABF', 'DMC5', 'FE3H', 'WROEF', 'CLS', 'DC',\n",
       "       'HLKN', 'NITW', 'BY2', 'BRA', 'MGSV', 'TSWP', 'OWB', 'DS2',\n",
       "       'TBOIR', 'COL', 'FLR', 'MSMMM', 'KBOS'], dtype=object)"
      ]
     },
     "execution_count": 10,
     "metadata": {},
     "output_type": "execute_result"
    }
   ],
   "source": [
    "df_games[\"Game_Id\"].unique()"
   ]
  },
  {
   "cell_type": "code",
   "execution_count": 11,
   "id": "f5e7815c",
   "metadata": {},
   "outputs": [
    {
     "data": {
      "text/plain": [
       "array(['Grand Theft Auto V', 'Pokémon Sword/Shield',\n",
       "       'Call of Duty: Modern Warfare', 'Red Dead Redemption 2',\n",
       "       'Super Mario Odyssey', 'The Legend of Zelda: Breath of the Wild',\n",
       "       'Pokémon Sun/Moon', 'The Witcher 3: Wild Hunt',\n",
       "       'Call of Duty: Black Ops 2', 'Borderlands 2', 'The Walking Dead',\n",
       "       'God of War', \"Uncharted 4: A Thief's End\", 'Inside', 'Undertale',\n",
       "       'Bloodborne', 'Shovel Knight: Shovel of Hope', 'Papers, Please',\n",
       "       'The Last of Us', 'BioShock Infinite', 'Hotline Miami', 'Journey',\n",
       "       'Far Cry 3', 'Persona 5', 'Tunic', 'Elden Ring',\n",
       "       'The Stanley Parable (Ultra Deluxe)', 'Neon White', 'Cuphead',\n",
       "       'Deathloop', 'NieR: Automata', 'I Was a Teenage Exocolonist',\n",
       "       'Immortality', 'Disco Elysium', 'Hades',\n",
       "       'Chicory: A Colorful World', 'It Takes Two',\n",
       "       'The Last of Us Part II', 'Half-Life:Alyx',\n",
       "       'Ori and the Will of the Wisps', 'Dragon Quest XI', 'Yakuza 0',\n",
       "       'There is No Game: Wrong Dimension', 'Divinity:Original Sin II',\n",
       "       'Sekiro: Shadows Die Twice', 'Ori and the Blind Forest',\n",
       "       'Devil May Cry 5', 'Fire Emblem: Three Houses',\n",
       "       'What Remains of Edith Finch', 'Celeste', 'Dead Cells',\n",
       "       'Hollow Knight', 'Night in the Woods', 'Bayonetta 2', 'Broken Age',\n",
       "       'Metal Gear Solid V: The Phantom Pain', 'The Swapper', 'Owlboy',\n",
       "       'Dark Souls 2', 'The Binding of Isaac: Rebirth', 'Child of Light',\n",
       "       'Florence', \"Marvel's Spider-Man: Miles Morales\",\n",
       "       'Kena: Bridge of Spirits'], dtype=object)"
      ]
     },
     "execution_count": 11,
     "metadata": {},
     "output_type": "execute_result"
    }
   ],
   "source": [
    "df_games[\"Title\"].unique()"
   ]
  },
  {
   "cell_type": "code",
   "execution_count": 12,
   "id": "a834dc60",
   "metadata": {},
   "outputs": [
    {
     "data": {
      "text/plain": [
       "array(['Nov-13', 'Nov-19', 'Oct-19', 'Dec-18', 'Oct-17', 'Mar-17',\n",
       "       'Nov-16', 'May-15', 'Nov-12', 'Sep-12', 'Apr-12', 'Apr-18',\n",
       "       'May-16', 'Jun-16', 'Sep-15', 'Mar-15', 'Jun-14', 'Aug-13',\n",
       "       'Jun-13', 'Mar-13', 'Oct-12', 'Mar-12', 'Sep-16', 'Sep-22',\n",
       "       'Feb-22', 'Apr-22', 'Jun-22', 'Sep-17', 'Sep-21', 'Feb-17',\n",
       "       'Aug-22', 'Jun-21', 'Mar-21', 'Jun-20', 'Mar-20', 'Jul-17',\n",
       "       'Aug-20', 'Mar-19', 'Jul-19', 'Apr-17', 'Jan-18', 'Aug-18',\n",
       "       'Sep-14', 'Jan-14', 'May-13', 'Mar-14', 'Nov-14', 'Apr-14',\n",
       "       'Feb-18', 'Nov-20'], dtype=object)"
      ]
     },
     "execution_count": 12,
     "metadata": {},
     "output_type": "execute_result"
    }
   ],
   "source": [
    "df_games[\"Release\"].unique()"
   ]
  },
  {
   "cell_type": "code",
   "execution_count": 13,
   "id": "4af12469",
   "metadata": {},
   "outputs": [
    {
     "data": {
      "text/plain": [
       "array(['GTA', 'Pokémon', 'Call of Duty', 'Red Dead', 'Super Mario',\n",
       "       'The Legend of Zelda', 'The Witcher', 'Borderlands',\n",
       "       'The Walking Dead', 'God of War', 'Uncharted', nan, 'BioShock',\n",
       "       'Far Cry', 'Persona', 'Drakengard', 'Half-Life', 'Dragon Quest',\n",
       "       'Yakuza', 'Divinity', 'Devil May Cry', 'Fire Emblem', 'Bayonetta',\n",
       "       'Metal Gear', 'Dark Souls', \"Marvel's Spider-Man\"], dtype=object)"
      ]
     },
     "execution_count": 13,
     "metadata": {},
     "output_type": "execute_result"
    }
   ],
   "source": [
    "df_games[\"Series\"].unique()"
   ]
  },
  {
   "cell_type": "code",
   "execution_count": 14,
   "id": "9c48ceaf",
   "metadata": {},
   "outputs": [
    {
     "data": {
      "text/plain": [
       "array(['Action-adventure', 'RPG', 'Action', 'Adventure', 'Simulation',\n",
       "       'Interactive Story'], dtype=object)"
      ]
     },
     "execution_count": 14,
     "metadata": {},
     "output_type": "execute_result"
    }
   ],
   "source": [
    "df_games[\"Genre\"].unique()\n"
   ]
  },
  {
   "cell_type": "code",
   "execution_count": 15,
   "id": "f3b4253e",
   "metadata": {},
   "outputs": [
    {
     "data": {
      "text/plain": [
       "array(['Action-adventure', 'RPG', 'FPS', 'Action RPG',\n",
       "       'Episodic adventure', 'Puzzle-Platform', 'Platform',\n",
       "       'Puzzle Simulation', 'Top-down Shooter', 'Adventure',\n",
       "       'Simulation RPG', 'Interactive Story', 'Rund and gun',\n",
       "       'Strategy RPG', 'Platform-adventure', 'Tactical RPG',\n",
       "       'Metroidvania', 'Point-and-click adventure', 'Stealth',\n",
       "       'Roguelike', 'Platform RPG'], dtype=object)"
      ]
     },
     "execution_count": 15,
     "metadata": {},
     "output_type": "execute_result"
    }
   ],
   "source": [
    "df_games[\"Sub-genre\"].unique()\n"
   ]
  },
  {
   "cell_type": "code",
   "execution_count": 16,
   "id": "2a856d0a",
   "metadata": {},
   "outputs": [
    {
     "data": {
      "text/plain": [
       "array(['Rockstar North', 'Game Freak', 'Infinity Ward',\n",
       "       'Rockstar Studios', 'Nintendo EDP', 'CD Projeket Red', 'Treyarch',\n",
       "       'Gearbox Software', 'Telltale Games', 'Santa Monica Studio',\n",
       "       'Naughty Dog', 'Paydead', 'Toby Fox', 'FromSoftware',\n",
       "       'Yacht Club Games', '3909 LLC', 'Irrational Games',\n",
       "       'Dennaton Games', 'Thatgamecompany', 'Ubisoft Montreal',\n",
       "       'P-Studio', 'Andrew Shouldice', 'Galactic Cafe', 'Angel Matrix',\n",
       "       'Studio MDHR', 'Arkane Lyon', 'PlatinumGames', 'Northway Gates',\n",
       "       'Sam Barlow', 'ZA/UM', 'Supergiant Games', 'Finji',\n",
       "       'Hazelight Studios', 'Valve', 'Moon Studios', 'Square Enix',\n",
       "       'Ryu Ga Gotoku Studio', 'Draw Me A Pixel', 'Larian Studios',\n",
       "       'Capcom', 'Intelligent Systems Koei Tecmo', 'Giant Sparrow',\n",
       "       'Maddy Makes Games', 'Motion Twin', 'Team Cherry', 'Secret Lab',\n",
       "       'Double Fine Productions', 'Kojima Productions', 'Facepalm Games',\n",
       "       'D-Pad Studio', 'Nicalis', 'Mountains', 'Insomniac Games',\n",
       "       'Ember Lab'], dtype=object)"
      ]
     },
     "execution_count": 16,
     "metadata": {},
     "output_type": "execute_result"
    }
   ],
   "source": [
    "df_games[\"Developer\"].unique()"
   ]
  },
  {
   "cell_type": "code",
   "execution_count": 17,
   "id": "1e9b47dc",
   "metadata": {},
   "outputs": [
    {
     "data": {
      "text/plain": [
       "array(['Rockstar Games', 'Nintendo', 'Activision', 'CD Projekt',\n",
       "       '2K Games', 'Telltale Games', 'Sony Interactive Entertaiment',\n",
       "       'Sony Computer Entertainment', 'Playdead', 'Toby Fox',\n",
       "       'Yacht Club Games', '3909 LLC', 'Devolver Digital', 'Ubisoft',\n",
       "       'Atlus', 'Finji', 'Bandai Namco Entertainment', 'Galactic Cafe',\n",
       "       'Annapurna Interactive', 'Studio MDHR', 'Bethesda Softworks',\n",
       "       'SquareEnix', 'Half Mermaid Productions', 'ZA/UM',\n",
       "       'Supergiant Games', 'EA', 'Valve', 'Xbox Game Studios',\n",
       "       'Square Enix', 'Sega', 'Draw Me A Pixel', 'Larian Studios',\n",
       "       'Microsoft Studios', 'Capcom', 'Maddy Makes Games', 'Motion Twin',\n",
       "       'Team Cherry', 'Double Fine Productions', 'Konami',\n",
       "       'Facepalm Games', 'D-Pad Studio', 'Bandai Namco Games', 'Nicalis',\n",
       "       'Ember Lab'], dtype=object)"
      ]
     },
     "execution_count": 17,
     "metadata": {},
     "output_type": "execute_result"
    }
   ],
   "source": [
    "df_games[\"Publisher\"].unique()"
   ]
  },
  {
   "cell_type": "code",
   "execution_count": 18,
   "id": "7fd95031",
   "metadata": {},
   "outputs": [
    {
     "data": {
      "text/plain": [
       "array(['GBR', 'JPN', 'USA', 'POL', 'DNK', 'SWE', 'CAN', 'FRA', 'AUT',\n",
       "       'BEL', 'AUS', 'FIN', 'NOR'], dtype=object)"
      ]
     },
     "execution_count": 18,
     "metadata": {},
     "output_type": "execute_result"
    }
   ],
   "source": [
    "df_games[\"Country\"].unique()"
   ]
  },
  {
   "cell_type": "code",
   "execution_count": 19,
   "id": "b5b6faa7",
   "metadata": {},
   "outputs": [
    {
     "data": {
      "text/plain": [
       "array(['Multi', 'Nintendo Switch', 'Nintendo 3DS', 'PS4', 'PS3',\n",
       "       'Computer', 'Wii U', 'Mobile'], dtype=object)"
      ]
     },
     "execution_count": 19,
     "metadata": {},
     "output_type": "execute_result"
    }
   ],
   "source": [
    "df_games[\"Platform\"].unique()"
   ]
  },
  {
   "cell_type": "code",
   "execution_count": 20,
   "id": "7c83c1ca",
   "metadata": {},
   "outputs": [
    {
     "data": {
      "text/plain": [
       "array([18,  7, 12, 16,  3], dtype=int64)"
      ]
     },
     "execution_count": 20,
     "metadata": {},
     "output_type": "execute_result"
    }
   ],
   "source": [
    "df_games[\"PEGI\"].unique()"
   ]
  },
  {
   "cell_type": "code",
   "execution_count": 21,
   "id": "b7ed2d6a",
   "metadata": {},
   "outputs": [
    {
     "data": {
      "text/plain": [
       "array(['No', 'Yes', 'Non-Binary'], dtype=object)"
      ]
     },
     "execution_count": 21,
     "metadata": {},
     "output_type": "execute_result"
    }
   ],
   "source": [
    "df_games[\"Customizable_main\"].unique()"
   ]
  },
  {
   "cell_type": "code",
   "execution_count": 22,
   "id": "3c413649",
   "metadata": {},
   "outputs": [
    {
     "data": {
      "text/plain": [
       "array([3, 1, 2, 4], dtype=int64)"
      ]
     },
     "execution_count": 22,
     "metadata": {},
     "output_type": "execute_result"
    }
   ],
   "source": [
    "df_games[\"Protagonist\"].unique()"
   ]
  },
  {
   "cell_type": "code",
   "execution_count": 23,
   "id": "7caca60c",
   "metadata": {},
   "outputs": [
    {
     "data": {
      "text/plain": [
       "array([0, 1, 2], dtype=int64)"
      ]
     },
     "execution_count": 23,
     "metadata": {},
     "output_type": "execute_result"
    }
   ],
   "source": [
    "df_games[\"Protagonist_Non_Male\"].unique()"
   ]
  },
  {
   "cell_type": "code",
   "execution_count": 24,
   "id": "18b389f2",
   "metadata": {},
   "outputs": [
    {
     "data": {
      "text/plain": [
       "array([ 9,  4,  5, 17,  3, 13, 12,  8, 14,  6,  2, 10,  0, 11, 15,  7,  1],\n",
       "      dtype=int64)"
      ]
     },
     "execution_count": 24,
     "metadata": {},
     "output_type": "execute_result"
    }
   ],
   "source": [
    "\n",
    "df_games[\"Relevant_males\"].unique()"
   ]
  },
  {
   "cell_type": "code",
   "execution_count": 25,
   "id": "f0b622db",
   "metadata": {},
   "outputs": [
    {
     "data": {
      "text/plain": [
       "array(['18%', '56%', '17%', '29%', '40%', '28%', '43%', '32%', '0%',\n",
       "       '33%', '39%', '14%', '45%', '57%', '20%', '100%', '21%', '44%',\n",
       "       '47%', '62%', '52%', '50%', '63%', '31%', '12%', '36%', '13%',\n",
       "       '80%', '38%', '35%', '67%', '27%', '60%', '54%', '42%'],\n",
       "      dtype=object)"
      ]
     },
     "execution_count": 25,
     "metadata": {},
     "output_type": "execute_result"
    }
   ],
   "source": [
    "df_games[\"Percentage_non_male\"].unique()"
   ]
  },
  {
   "cell_type": "code",
   "execution_count": 26,
   "id": "825f236a",
   "metadata": {},
   "outputs": [
    {
     "data": {
      "text/plain": [
       "array(['MS', 'SR', 'TR'], dtype=object)"
      ]
     },
     "execution_count": 26,
     "metadata": {},
     "output_type": "execute_result"
    }
   ],
   "source": [
    "df_games[\"Criteria\"].unique()"
   ]
  },
  {
   "cell_type": "code",
   "execution_count": 27,
   "id": "17447f30",
   "metadata": {},
   "outputs": [
    {
     "data": {
      "text/plain": [
       "array(['M', 'F'], dtype=object)"
      ]
     },
     "execution_count": 27,
     "metadata": {},
     "output_type": "execute_result"
    }
   ],
   "source": [
    "df_games[\"Director\"].unique()"
   ]
  },
  {
   "cell_type": "code",
   "execution_count": 28,
   "id": "bad89a13",
   "metadata": {},
   "outputs": [
    {
     "data": {
      "text/plain": [
       "array([ 7,  9, 11,  8, 12, 10, 16, 15,  2,  5,  1,  4,  3,  6, 13],\n",
       "      dtype=int64)"
      ]
     },
     "execution_count": 28,
     "metadata": {},
     "output_type": "execute_result"
    }
   ],
   "source": [
    "df_games[\"Total_team\"].unique()"
   ]
  },
  {
   "cell_type": "code",
   "execution_count": 29,
   "id": "1966b610",
   "metadata": {},
   "outputs": [
    {
     "data": {
      "text/plain": [
       "array([0, 1, 2, 4, 3], dtype=int64)"
      ]
     },
     "execution_count": 29,
     "metadata": {},
     "output_type": "execute_result"
    }
   ],
   "source": [
    "df_games[\"female_team\"].unique()"
   ]
  },
  {
   "cell_type": "code",
   "execution_count": 30,
   "id": "2d704548",
   "metadata": {},
   "outputs": [
    {
     "data": {
      "text/plain": [
       "array(['0%', '11%', '9%', '7%', '50%', '14%', '25%', '8%', '67%', '31%',\n",
       "       '20%', '18%', '10%', '33%', '60%', '17%', '43%', '13%'],\n",
       "      dtype=object)"
      ]
     },
     "execution_count": 30,
     "metadata": {},
     "output_type": "execute_result"
    }
   ],
   "source": [
    "df_games[\"Team_percentage\"].unique()"
   ]
  },
  {
   "cell_type": "code",
   "execution_count": 31,
   "id": "4f25755f",
   "metadata": {},
   "outputs": [
    {
     "data": {
      "text/plain": [
       "array([9.7, 8. , 8.7, 9. , 8.1, 8.5, 9.4, 9.3, 9.1, 9.2, 8.8, 8.9, 9.5,\n",
       "       8.6, 8.4, 7.9, 8.2])"
      ]
     },
     "execution_count": 31,
     "metadata": {},
     "output_type": "execute_result"
    }
   ],
   "source": [
    "df_games[\"Metacritic \"].unique()"
   ]
  },
  {
   "cell_type": "code",
   "execution_count": 32,
   "id": "ee90d128",
   "metadata": {},
   "outputs": [
    {
     "data": {
      "text/plain": [
       "array([ 9. ,  7. ,  8. ,  9.5, 10. ,  nan,  8.5,  8.6])"
      ]
     },
     "execution_count": 32,
     "metadata": {},
     "output_type": "execute_result"
    }
   ],
   "source": [
    "df_games[\"Destructoid\"].unique()"
   ]
  },
  {
   "cell_type": "code",
   "execution_count": 33,
   "id": "8e4fafd0",
   "metadata": {},
   "outputs": [
    {
     "data": {
      "text/plain": [
       "array([10. ,  9.3,  8. ,  9. ,  9.1,  8.7,  9.5,  8.8,  9.8,  8.9,  nan,\n",
       "        9.6,  8.5,  9.4])"
      ]
     },
     "execution_count": 33,
     "metadata": {},
     "output_type": "execute_result"
    }
   ],
   "source": [
    "df_games[\"IGN\"].unique()"
   ]
  },
  {
   "cell_type": "code",
   "execution_count": 34,
   "id": "8755d404",
   "metadata": {},
   "outputs": [
    {
     "data": {
      "text/plain": [
       "array([ 9. ,  7. , 10. ,  8. ,  8.5,  9.5,  nan,  9.6])"
      ]
     },
     "execution_count": 34,
     "metadata": {},
     "output_type": "execute_result"
    }
   ],
   "source": [
    "df_games[\"GameSpot\"].unique()"
   ]
  },
  {
   "cell_type": "code",
   "execution_count": 35,
   "id": "9c775ab1",
   "metadata": {},
   "outputs": [
    {
     "data": {
      "text/plain": [
       "array([9.4, 8.3, 7.8, 9.6, 9.8, 9.9, 8.7, 9.1, 8.4, 8.5, 9.5, 9.2, 8.8,\n",
       "       8.9, 9. , 8.6, 9.3, 9.7])"
      ]
     },
     "execution_count": 35,
     "metadata": {},
     "output_type": "execute_result"
    }
   ],
   "source": [
    "df_games[\"Avg_Reviews\"].unique()"
   ]
  },
  {
   "cell_type": "markdown",
   "id": "a3d74c21",
   "metadata": {},
   "source": [
    "``Cambio columnas a minusculas``"
   ]
  },
  {
   "cell_type": "code",
   "execution_count": 36,
   "id": "d057ae13",
   "metadata": {},
   "outputs": [],
   "source": [
    "df_games.columns = df_games.columns.str.lower()"
   ]
  },
  {
   "cell_type": "code",
   "execution_count": 37,
   "id": "0577d76d",
   "metadata": {},
   "outputs": [
    {
     "data": {
      "text/plain": [
       "Index(['game_id', 'title', 'release', 'series', 'genre', 'sub-genre',\n",
       "       'developer', 'publisher', 'country', 'platform', 'pegi',\n",
       "       'customizable_main', 'protagonist', 'protagonist_non_male',\n",
       "       'relevant_males', 'relevant_no_males', 'percentage_non_male',\n",
       "       'criteria', 'director', 'total_team', 'female_team', 'team_percentage',\n",
       "       'metacritic ', 'destructoid', 'ign', 'gamespot', 'avg_reviews',\n",
       "       'unnamed: 27'],\n",
       "      dtype='object')"
      ]
     },
     "execution_count": 37,
     "metadata": {},
     "output_type": "execute_result"
    }
   ],
   "source": [
    "df_games.columns"
   ]
  },
  {
   "cell_type": "markdown",
   "id": "7002be1b",
   "metadata": {},
   "source": [
    "``Cambio en la estructura de las columnas``: Quitar espacio al final del nombre de columna "
   ]
  },
  {
   "cell_type": "code",
   "execution_count": 38,
   "id": "14cd4c35",
   "metadata": {},
   "outputs": [],
   "source": [
    "df_games.columns = df_games.columns.str.replace(\" \", \"\", regex=False)\n",
    "\n"
   ]
  },
  {
   "cell_type": "code",
   "execution_count": 39,
   "id": "190466fb",
   "metadata": {},
   "outputs": [
    {
     "data": {
      "text/plain": [
       "Index(['game_id', 'title', 'release', 'series', 'genre', 'sub-genre',\n",
       "       'developer', 'publisher', 'country', 'platform', 'pegi',\n",
       "       'customizable_main', 'protagonist', 'protagonist_non_male',\n",
       "       'relevant_males', 'relevant_no_males', 'percentage_non_male',\n",
       "       'criteria', 'director', 'total_team', 'female_team', 'team_percentage',\n",
       "       'metacritic', 'destructoid', 'ign', 'gamespot', 'avg_reviews',\n",
       "       'unnamed:27'],\n",
       "      dtype='object')"
      ]
     },
     "execution_count": 39,
     "metadata": {},
     "output_type": "execute_result"
    }
   ],
   "source": [
    "df_games.columns"
   ]
  },
  {
   "cell_type": "markdown",
   "id": "3f8c4d3a",
   "metadata": {},
   "source": [
    "``Gestión de duplicados``"
   ]
  },
  {
   "cell_type": "code",
   "execution_count": 40,
   "id": "df754313",
   "metadata": {},
   "outputs": [
    {
     "data": {
      "text/plain": [
       "0"
      ]
     },
     "execution_count": 40,
     "metadata": {},
     "output_type": "execute_result"
    }
   ],
   "source": [
    "df_games.duplicated().sum()"
   ]
  },
  {
   "cell_type": "markdown",
   "id": "3e8a227d",
   "metadata": {},
   "source": [
    "``Gestión de nulos``"
   ]
  },
  {
   "cell_type": "code",
   "execution_count": 41,
   "id": "f9ad0667",
   "metadata": {},
   "outputs": [
    {
     "data": {
      "text/plain": [
       "game_id                  0\n",
       "title                    0\n",
       "release                  0\n",
       "series                  37\n",
       "genre                    0\n",
       "sub-genre                0\n",
       "developer                0\n",
       "publisher                0\n",
       "country                  0\n",
       "platform                 0\n",
       "pegi                     0\n",
       "customizable_main        0\n",
       "protagonist              0\n",
       "protagonist_non_male     0\n",
       "relevant_males           0\n",
       "relevant_no_males        0\n",
       "percentage_non_male      0\n",
       "criteria                 0\n",
       "director                 0\n",
       "total_team               0\n",
       "female_team              0\n",
       "team_percentage          0\n",
       "metacritic               0\n",
       "destructoid              7\n",
       "ign                      2\n",
       "gamespot                 2\n",
       "avg_reviews              0\n",
       "unnamed:27              64\n",
       "dtype: int64"
      ]
     },
     "execution_count": 41,
     "metadata": {},
     "output_type": "execute_result"
    }
   ],
   "source": [
    "df_games.isnull().sum()"
   ]
  },
  {
   "cell_type": "code",
   "execution_count": 42,
   "id": "26a3096d",
   "metadata": {},
   "outputs": [],
   "source": [
    "df_games['destructoid'] = df_games['destructoid'].fillna(0)\n"
   ]
  },
  {
   "cell_type": "code",
   "execution_count": 43,
   "id": "4b082cee",
   "metadata": {},
   "outputs": [],
   "source": [
    "df_games['ign'] = df_games['ign'].fillna(0)"
   ]
  },
  {
   "cell_type": "code",
   "execution_count": 44,
   "id": "c8681581",
   "metadata": {},
   "outputs": [],
   "source": [
    "df_games['gamespot'] = df_games['gamespot'].fillna(0)"
   ]
  },
  {
   "cell_type": "code",
   "execution_count": 45,
   "id": "62d0f7e7",
   "metadata": {},
   "outputs": [
    {
     "data": {
      "text/plain": [
       "game_id                  0\n",
       "title                    0\n",
       "release                  0\n",
       "series                  37\n",
       "genre                    0\n",
       "sub-genre                0\n",
       "developer                0\n",
       "publisher                0\n",
       "country                  0\n",
       "platform                 0\n",
       "pegi                     0\n",
       "customizable_main        0\n",
       "protagonist              0\n",
       "protagonist_non_male     0\n",
       "relevant_males           0\n",
       "relevant_no_males        0\n",
       "percentage_non_male      0\n",
       "criteria                 0\n",
       "director                 0\n",
       "total_team               0\n",
       "female_team              0\n",
       "team_percentage          0\n",
       "metacritic               0\n",
       "destructoid              0\n",
       "ign                      0\n",
       "gamespot                 0\n",
       "avg_reviews              0\n",
       "unnamed:27              64\n",
       "dtype: int64"
      ]
     },
     "execution_count": 45,
     "metadata": {},
     "output_type": "execute_result"
    }
   ],
   "source": [
    "df_games.isnull().sum()"
   ]
  },
  {
   "cell_type": "code",
   "execution_count": 46,
   "id": "4148fca4",
   "metadata": {},
   "outputs": [],
   "source": [
    "# Pendiente ver qué hacemos con la columna series"
   ]
  },
  {
   "cell_type": "code",
   "execution_count": null,
   "id": "80e87f55",
   "metadata": {},
   "outputs": [],
   "source": []
  }
 ],
 "metadata": {
  "kernelspec": {
   "display_name": "base",
   "language": "python",
   "name": "python3"
  },
  "language_info": {
   "codemirror_mode": {
    "name": "ipython",
    "version": 3
   },
   "file_extension": ".py",
   "mimetype": "text/x-python",
   "name": "python",
   "nbconvert_exporter": "python",
   "pygments_lexer": "ipython3",
   "version": "3.12.7"
  }
 },
 "nbformat": 4,
 "nbformat_minor": 5
}
