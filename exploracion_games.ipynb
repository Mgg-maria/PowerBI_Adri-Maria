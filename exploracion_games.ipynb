{
 "cells": [
  {
   "cell_type": "markdown",
   "id": "cae42396",
   "metadata": {},
   "source": [
    "``Lectura de archivo games.grivg``"
   ]
  },
  {
   "cell_type": "code",
   "execution_count": 1,
   "id": "0d6465ae",
   "metadata": {},
   "outputs": [],
   "source": [
    "import pandas as pd"
   ]
  },
  {
   "cell_type": "code",
   "execution_count": 2,
   "id": "88c1d0d0",
   "metadata": {},
   "outputs": [],
   "source": [
    "df_games = pd.read_csv('files/games.grivg.csv')"
   ]
  },
  {
   "cell_type": "code",
   "execution_count": 3,
   "id": "0c8e775c",
   "metadata": {},
   "outputs": [
    {
     "data": {
      "text/html": [
       "<div>\n",
       "<style scoped>\n",
       "    .dataframe tbody tr th:only-of-type {\n",
       "        vertical-align: middle;\n",
       "    }\n",
       "\n",
       "    .dataframe tbody tr th {\n",
       "        vertical-align: top;\n",
       "    }\n",
       "\n",
       "    .dataframe thead th {\n",
       "        text-align: right;\n",
       "    }\n",
       "</style>\n",
       "<table border=\"1\" class=\"dataframe\">\n",
       "  <thead>\n",
       "    <tr style=\"text-align: right;\">\n",
       "      <th></th>\n",
       "      <th>Game_Id</th>\n",
       "      <th>Title</th>\n",
       "      <th>Release</th>\n",
       "      <th>Series</th>\n",
       "      <th>Genre</th>\n",
       "      <th>Sub-genre</th>\n",
       "      <th>Developer</th>\n",
       "      <th>Publisher</th>\n",
       "      <th>Country</th>\n",
       "      <th>Platform</th>\n",
       "      <th>...</th>\n",
       "      <th>Director</th>\n",
       "      <th>Total_team</th>\n",
       "      <th>female_team</th>\n",
       "      <th>Team_percentage</th>\n",
       "      <th>Metacritic</th>\n",
       "      <th>Destructoid</th>\n",
       "      <th>IGN</th>\n",
       "      <th>GameSpot</th>\n",
       "      <th>Avg_Reviews</th>\n",
       "      <th>Unnamed: 27</th>\n",
       "    </tr>\n",
       "  </thead>\n",
       "  <tbody>\n",
       "    <tr>\n",
       "      <th>0</th>\n",
       "      <td>GTAV</td>\n",
       "      <td>Grand Theft Auto V</td>\n",
       "      <td>Nov-13</td>\n",
       "      <td>GTA</td>\n",
       "      <td>Action-adventure</td>\n",
       "      <td>Action-adventure</td>\n",
       "      <td>Rockstar North</td>\n",
       "      <td>Rockstar Games</td>\n",
       "      <td>GBR</td>\n",
       "      <td>Multi</td>\n",
       "      <td>...</td>\n",
       "      <td>M</td>\n",
       "      <td>7</td>\n",
       "      <td>0</td>\n",
       "      <td>0%</td>\n",
       "      <td>9.7</td>\n",
       "      <td>9.0</td>\n",
       "      <td>10.0</td>\n",
       "      <td>9.0</td>\n",
       "      <td>9.4</td>\n",
       "      <td>NaN</td>\n",
       "    </tr>\n",
       "    <tr>\n",
       "      <th>1</th>\n",
       "      <td>PSS</td>\n",
       "      <td>Pokémon Sword/Shield</td>\n",
       "      <td>Nov-19</td>\n",
       "      <td>Pokémon</td>\n",
       "      <td>RPG</td>\n",
       "      <td>RPG</td>\n",
       "      <td>Game Freak</td>\n",
       "      <td>Nintendo</td>\n",
       "      <td>JPN</td>\n",
       "      <td>Nintendo Switch</td>\n",
       "      <td>...</td>\n",
       "      <td>M</td>\n",
       "      <td>9</td>\n",
       "      <td>1</td>\n",
       "      <td>11%</td>\n",
       "      <td>8.0</td>\n",
       "      <td>7.0</td>\n",
       "      <td>9.3</td>\n",
       "      <td>9.0</td>\n",
       "      <td>8.3</td>\n",
       "      <td>NaN</td>\n",
       "    </tr>\n",
       "    <tr>\n",
       "      <th>2</th>\n",
       "      <td>CODMW</td>\n",
       "      <td>Call of Duty: Modern Warfare</td>\n",
       "      <td>Oct-19</td>\n",
       "      <td>Call of Duty</td>\n",
       "      <td>Action</td>\n",
       "      <td>FPS</td>\n",
       "      <td>Infinity Ward</td>\n",
       "      <td>Activision</td>\n",
       "      <td>USA</td>\n",
       "      <td>Multi</td>\n",
       "      <td>...</td>\n",
       "      <td>M</td>\n",
       "      <td>11</td>\n",
       "      <td>0</td>\n",
       "      <td>0%</td>\n",
       "      <td>8.0</td>\n",
       "      <td>8.0</td>\n",
       "      <td>8.0</td>\n",
       "      <td>7.0</td>\n",
       "      <td>7.8</td>\n",
       "      <td>NaN</td>\n",
       "    </tr>\n",
       "    <tr>\n",
       "      <th>3</th>\n",
       "      <td>RDR2</td>\n",
       "      <td>Red Dead Redemption 2</td>\n",
       "      <td>Dec-18</td>\n",
       "      <td>Red Dead</td>\n",
       "      <td>Action-adventure</td>\n",
       "      <td>Action-adventure</td>\n",
       "      <td>Rockstar Studios</td>\n",
       "      <td>Rockstar Games</td>\n",
       "      <td>USA</td>\n",
       "      <td>Multi</td>\n",
       "      <td>...</td>\n",
       "      <td>M</td>\n",
       "      <td>7</td>\n",
       "      <td>0</td>\n",
       "      <td>0%</td>\n",
       "      <td>9.7</td>\n",
       "      <td>9.5</td>\n",
       "      <td>10.0</td>\n",
       "      <td>9.0</td>\n",
       "      <td>9.6</td>\n",
       "      <td>NaN</td>\n",
       "    </tr>\n",
       "    <tr>\n",
       "      <th>4</th>\n",
       "      <td>SMO</td>\n",
       "      <td>Super Mario Odyssey</td>\n",
       "      <td>Oct-17</td>\n",
       "      <td>Super Mario</td>\n",
       "      <td>Action-adventure</td>\n",
       "      <td>Action-adventure</td>\n",
       "      <td>Nintendo EDP</td>\n",
       "      <td>Nintendo</td>\n",
       "      <td>JPN</td>\n",
       "      <td>Nintendo Switch</td>\n",
       "      <td>...</td>\n",
       "      <td>M</td>\n",
       "      <td>11</td>\n",
       "      <td>1</td>\n",
       "      <td>9%</td>\n",
       "      <td>9.7</td>\n",
       "      <td>9.5</td>\n",
       "      <td>10.0</td>\n",
       "      <td>10.0</td>\n",
       "      <td>9.8</td>\n",
       "      <td>NaN</td>\n",
       "    </tr>\n",
       "  </tbody>\n",
       "</table>\n",
       "<p>5 rows × 28 columns</p>\n",
       "</div>"
      ],
      "text/plain": [
       "  Game_Id                         Title Release        Series  \\\n",
       "0    GTAV            Grand Theft Auto V  Nov-13           GTA   \n",
       "1     PSS          Pokémon Sword/Shield  Nov-19       Pokémon   \n",
       "2   CODMW  Call of Duty: Modern Warfare  Oct-19  Call of Duty   \n",
       "3    RDR2         Red Dead Redemption 2  Dec-18      Red Dead   \n",
       "4     SMO           Super Mario Odyssey  Oct-17   Super Mario   \n",
       "\n",
       "              Genre         Sub-genre         Developer       Publisher  \\\n",
       "0  Action-adventure  Action-adventure    Rockstar North  Rockstar Games   \n",
       "1               RPG               RPG        Game Freak        Nintendo   \n",
       "2            Action               FPS     Infinity Ward      Activision   \n",
       "3  Action-adventure  Action-adventure  Rockstar Studios  Rockstar Games   \n",
       "4  Action-adventure  Action-adventure      Nintendo EDP        Nintendo   \n",
       "\n",
       "  Country         Platform  ...  Director Total_team  female_team  \\\n",
       "0     GBR            Multi  ...         M          7            0   \n",
       "1     JPN  Nintendo Switch  ...         M          9            1   \n",
       "2     USA            Multi  ...         M         11            0   \n",
       "3     USA            Multi  ...         M          7            0   \n",
       "4     JPN  Nintendo Switch  ...         M         11            1   \n",
       "\n",
       "   Team_percentage  Metacritic   Destructoid   IGN GameSpot Avg_Reviews  \\\n",
       "0               0%          9.7          9.0  10.0      9.0         9.4   \n",
       "1              11%          8.0          7.0   9.3      9.0         8.3   \n",
       "2               0%          8.0          8.0   8.0      7.0         7.8   \n",
       "3               0%          9.7          9.5  10.0      9.0         9.6   \n",
       "4               9%          9.7          9.5  10.0     10.0         9.8   \n",
       "\n",
       "   Unnamed: 27  \n",
       "0          NaN  \n",
       "1          NaN  \n",
       "2          NaN  \n",
       "3          NaN  \n",
       "4          NaN  \n",
       "\n",
       "[5 rows x 28 columns]"
      ]
     },
     "execution_count": 3,
     "metadata": {},
     "output_type": "execute_result"
    }
   ],
   "source": [
    "df_games.head()"
   ]
  },
  {
   "cell_type": "markdown",
   "id": "d3836bdd",
   "metadata": {},
   "source": [
    "``Distribución filas y columnas``"
   ]
  },
  {
   "cell_type": "code",
   "execution_count": 4,
   "id": "57f06617",
   "metadata": {},
   "outputs": [
    {
     "data": {
      "text/plain": [
       "(64, 28)"
      ]
     },
     "execution_count": 4,
     "metadata": {},
     "output_type": "execute_result"
    }
   ],
   "source": [
    "df_games.shape"
   ]
  },
  {
   "cell_type": "markdown",
   "id": "4e9f1803",
   "metadata": {},
   "source": [
    "``Nombre de las columnas``"
   ]
  },
  {
   "cell_type": "code",
   "execution_count": 5,
   "id": "5ec06c75",
   "metadata": {},
   "outputs": [
    {
     "data": {
      "text/plain": [
       "Index(['Game_Id', 'Title', 'Release', 'Series', 'Genre', 'Sub-genre',\n",
       "       'Developer', 'Publisher', 'Country', 'Platform', 'PEGI',\n",
       "       'Customizable_main', 'Protagonist', 'Protagonist_Non_Male',\n",
       "       'Relevant_males', 'Relevant_no_males', 'Percentage_non_male',\n",
       "       'Criteria', 'Director', 'Total_team', 'female_team', 'Team_percentage',\n",
       "       'Metacritic ', 'Destructoid', 'IGN', 'GameSpot', 'Avg_Reviews',\n",
       "       'Unnamed: 27'],\n",
       "      dtype='object')"
      ]
     },
     "execution_count": 5,
     "metadata": {},
     "output_type": "execute_result"
    }
   ],
   "source": [
    "df_games.columns"
   ]
  },
  {
   "cell_type": "markdown",
   "id": "647f0070",
   "metadata": {},
   "source": [
    "``Tipo de datos de las columnas``"
   ]
  },
  {
   "cell_type": "code",
   "execution_count": 7,
   "id": "f06ba3d2",
   "metadata": {},
   "outputs": [
    {
     "name": "stdout",
     "output_type": "stream",
     "text": [
      "<class 'pandas.core.frame.DataFrame'>\n",
      "RangeIndex: 64 entries, 0 to 63\n",
      "Data columns (total 28 columns):\n",
      " #   Column                Non-Null Count  Dtype  \n",
      "---  ------                --------------  -----  \n",
      " 0   Game_Id               64 non-null     object \n",
      " 1   Title                 64 non-null     object \n",
      " 2   Release               64 non-null     object \n",
      " 3   Series                27 non-null     object \n",
      " 4   Genre                 64 non-null     object \n",
      " 5   Sub-genre             64 non-null     object \n",
      " 6   Developer             64 non-null     object \n",
      " 7   Publisher             64 non-null     object \n",
      " 8   Country               64 non-null     object \n",
      " 9   Platform              64 non-null     object \n",
      " 10  PEGI                  64 non-null     int64  \n",
      " 11  Customizable_main     64 non-null     object \n",
      " 12  Protagonist           64 non-null     int64  \n",
      " 13  Protagonist_Non_Male  64 non-null     int64  \n",
      " 14  Relevant_males        64 non-null     int64  \n",
      " 15  Relevant_no_males     64 non-null     int64  \n",
      " 16  Percentage_non_male   64 non-null     object \n",
      " 17  Criteria              64 non-null     object \n",
      " 18  Director              64 non-null     object \n",
      " 19  Total_team            64 non-null     int64  \n",
      " 20  female_team           64 non-null     int64  \n",
      " 21  Team_percentage       64 non-null     object \n",
      " 22  Metacritic            64 non-null     float64\n",
      " 23  Destructoid           57 non-null     float64\n",
      " 24  IGN                   62 non-null     float64\n",
      " 25  GameSpot              62 non-null     float64\n",
      " 26  Avg_Reviews           64 non-null     float64\n",
      " 27  Unnamed: 27           0 non-null      float64\n",
      "dtypes: float64(6), int64(7), object(15)\n",
      "memory usage: 14.1+ KB\n"
     ]
    }
   ],
   "source": [
    "df_games.info()"
   ]
  },
  {
   "cell_type": "markdown",
   "id": "d52f3b6f",
   "metadata": {},
   "source": [
    "``Cantidad de nulos de las columnas``"
   ]
  },
  {
   "cell_type": "code",
   "execution_count": 8,
   "id": "347768f1",
   "metadata": {},
   "outputs": [
    {
     "data": {
      "text/plain": [
       "Game_Id                  0\n",
       "Title                    0\n",
       "Release                  0\n",
       "Series                  37\n",
       "Genre                    0\n",
       "Sub-genre                0\n",
       "Developer                0\n",
       "Publisher                0\n",
       "Country                  0\n",
       "Platform                 0\n",
       "PEGI                     0\n",
       "Customizable_main        0\n",
       "Protagonist              0\n",
       "Protagonist_Non_Male     0\n",
       "Relevant_males           0\n",
       "Relevant_no_males        0\n",
       "Percentage_non_male      0\n",
       "Criteria                 0\n",
       "Director                 0\n",
       "Total_team               0\n",
       "female_team              0\n",
       "Team_percentage          0\n",
       "Metacritic               0\n",
       "Destructoid              7\n",
       "IGN                      2\n",
       "GameSpot                 2\n",
       "Avg_Reviews              0\n",
       "Unnamed: 27             64\n",
       "dtype: int64"
      ]
     },
     "execution_count": 8,
     "metadata": {},
     "output_type": "execute_result"
    }
   ],
   "source": [
    "df_games.isnull().sum()"
   ]
  },
  {
   "cell_type": "code",
   "execution_count": null,
   "id": "9c0bb920",
   "metadata": {},
   "outputs": [],
   "source": []
  },
  {
   "cell_type": "markdown",
   "id": "bf9b5d58",
   "metadata": {},
   "source": [
    "``Info docu original; contrastar``"
   ]
  },
  {
   "cell_type": "code",
   "execution_count": null,
   "id": "1e171cdd",
   "metadata": {},
   "outputs": [],
   "source": [
    "Game_Id (str) - Clave primaria - Un conjunto único de letras y números que identifica un juego.\n",
    "Title (str) - El título del juego\n",
    "Release (Date) - La fecha en que el juego fue lanzado por primera vez.\n",
    "Serie (str) - Serie a la que pertenece el juego, si existe.\n",
    "Género (str) - Género principal del juego\n",
    "Subgénero (str) - Subgénero principal del juego\n",
    "Desarrollador (str) - Desarrollador del juego\n",
    "Editor (str) - Editor del juego\n",
    "País (str) - País del desarrollador del juego\n",
    "Plataforma (str) - Plataformas en las que está disponible el juego. En caso de que el juego esté disponible en\n",
    "otras plataformas años después, sólo se anotará la original.\n",
    "PEGI (int) - La clasificación de la Información Paneuropea sobre Juegos para ese juego. Indica la edad mínima\n",
    "recomendada para un videojuego.\n",
    "Personalización (str) - Si el juego ofrece la opción de personalizar o no al personaje. Contiene\n",
    "tres valores: 'Sí', “No” y “No binario”.\n",
    "Protagonista (int) - Número de protagonistas para ese juego.\n",
    "Protagonist_non_male (int) - número de protagonistas no masculinos. Es decir, mujeres, no binarios y\n",
    "personajes personalizables.\n",
    "Relevant_males (int) - personajes masculinos del juego.\n",
    "Relevant_no_males (int) - personajes no masculinos en el juego\n",
    "Percentage_non_male (float) - porcentaje de personajes no masculinos\n",
    "Criteria (str) - criterios para seleccionar el juego. Contiene tres valores:\n",
    "- “TR” - más valorado\n",
    "- “MS” - más vendido\n",
    "- “SR” - ventas y valoración.\n",
    "Director (str) - género del director del juego. Puede contener 4 valores:\n",
    "- “M” - masculino\n",
    "- “F” - femenino\n",
    "- “NB” - no binario\n",
    "- “B” - ambos en caso de que haya más de un director de distinto género.\n",
    "Total_team (int) - número de personas principales implicadas en la creación del juego. Incluye programadores principales, desarrolladores de\n",
    ", directores, productores, artistas y diseñadores.\n",
    "Equipo_femenino (int) - número de integrantes del equipo que son mujeres.\n",
    "Team_percentage (float) - porcentaje de mujeres en el equipo.\n",
    "Metacritic (float) - puntuación sobre diez otorgada al juego por Metacritic.\n",
    "Destructoid (float) - puntuación sobre diez otorgada al juego por Destructoid.\n",
    "IGN (float) - puntuación sobre diez otorgada al juego por IGN.\n",
    "GameSpot (float) - puntuación sobre diez otorgada al juego por GameSpot.\n",
    "Avg_reviews (float) - la media de las cuatro columnas anteriores."
   ]
  },
  {
   "cell_type": "code",
   "execution_count": null,
   "id": "a3d74c21",
   "metadata": {},
   "outputs": [],
   "source": []
  },
  {
   "cell_type": "code",
   "execution_count": null,
   "id": "d057ae13",
   "metadata": {},
   "outputs": [],
   "source": []
  }
 ],
 "metadata": {
  "kernelspec": {
   "display_name": "base",
   "language": "python",
   "name": "python3"
  },
  "language_info": {
   "codemirror_mode": {
    "name": "ipython",
    "version": 3
   },
   "file_extension": ".py",
   "mimetype": "text/x-python",
   "name": "python",
   "nbconvert_exporter": "python",
   "pygments_lexer": "ipython3",
   "version": "3.12.7"
  }
 },
 "nbformat": 4,
 "nbformat_minor": 5
}
